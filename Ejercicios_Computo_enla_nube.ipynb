{
  "nbformat": 4,
  "nbformat_minor": 0,
  "metadata": {
    "colab": {
      "provenance": [],
      "authorship_tag": "ABX9TyM/cuUxpubzQBmG9bw7Gc8J",
      "include_colab_link": true
    },
    "kernelspec": {
      "name": "python3",
      "display_name": "Python 3"
    },
    "language_info": {
      "name": "python"
    }
  },
  "cells": [
    {
      "cell_type": "markdown",
      "metadata": {
        "id": "view-in-github",
        "colab_type": "text"
      },
      "source": [
        "<a href=\"https://colab.research.google.com/github/Brunoupiic/computo_enla_nube/blob/main/Ejercicios_Computo_enla_nube.ipynb\" target=\"_parent\"><img src=\"https://colab.research.google.com/assets/colab-badge.svg\" alt=\"Open In Colab\"/></a>"
      ]
    },
    {
      "cell_type": "markdown",
      "source": [
        "\n",
        "\n",
        "* Nombre: Bruno Zinedin Romero Rodriguez\n",
        "* Curso: Computo en la nube\n",
        "* Fecha: 17 de septiembre del 2023\n",
        "\n",
        "\n",
        "\n",
        "\n",
        "\n",
        "\n"
      ],
      "metadata": {
        "id": "hWA5UXoZ-tzH"
      }
    },
    {
      "cell_type": "markdown",
      "source": [
        " Ejercicio 1- Scopes"
      ],
      "metadata": {
        "id": "z93rW7jf6h5N"
      }
    },
    {
      "cell_type": "code",
      "execution_count": 2,
      "metadata": {
        "colab": {
          "base_uri": "https://localhost:8080/"
        },
        "id": "7tNa4VqG6K72",
        "outputId": "523ef3eb-937e-45de-ddce-1d5e1a7b548c"
      },
      "outputs": [
        {
          "output_type": "stream",
          "name": "stdout",
          "text": [
            "7\n",
            "5\n"
          ]
        }
      ],
      "source": [
        "# scopes1.py\n",
        "# definimos una funcion llamada local\n",
        "def local():\n",
        "    m = 7\n",
        "    print(m)\n",
        "#definimos m como variable\n",
        "m = 5\n",
        "#ejecutamos la funcion\n",
        "local()\n",
        "print(m)"
      ]
    },
    {
      "cell_type": "code",
      "source": [
        "# scopes2.py\n",
        "#funcion local\n",
        "def local():\n",
        "# m no esta definida desde la funcion local\n",
        "\n",
        "# m es encontrada en el ambito global\n",
        "    print(m, 'imprimir desde la funcion local')\n",
        "m = 5\n",
        "print(m, 'imprimir desde la funcion local')\n",
        "local()"
      ],
      "metadata": {
        "colab": {
          "base_uri": "https://localhost:8080/"
        },
        "id": "bxrPwvEG60hJ",
        "outputId": "a9caa347-de39-411a-a6a2-14bef69a7e59"
      },
      "execution_count": 4,
      "outputs": [
        {
          "output_type": "stream",
          "name": "stdout",
          "text": [
            "5 printing from the global scope\n",
            "5 printing from the local scope\n"
          ]
        }
      ]
    },
    {
      "cell_type": "code",
      "source": [
        "# scopes3.py\n",
        "# Local, Enclosing and Global\n",
        "def enclosing_func():\n",
        "    m = 13\n",
        "    def local():\n",
        "# m no esta definida desde la funcion local\n",
        "        print(m, 'imprimir desde la funcion local')\n",
        "#llamando a la funcion local\n",
        "    local()\n",
        "m = 5\n",
        "print(m, 'imprimir desde la funcion local')\n",
        "enclosing_func()"
      ],
      "metadata": {
        "colab": {
          "base_uri": "https://localhost:8080/"
        },
        "id": "6PQeoMuX7Ul-",
        "outputId": "d0af8d1c-61bb-477a-dd30-2adbb462f301"
      },
      "execution_count": 5,
      "outputs": [
        {
          "output_type": "stream",
          "name": "stdout",
          "text": [
            "5 printing from the global scope\n",
            "13 printing from the local scope\n"
          ]
        }
      ]
    },
    {
      "cell_type": "markdown",
      "source": [
        "Ejercicio 2- Clases"
      ],
      "metadata": {
        "id": "kSgX-4K37y9s"
      }
    },
    {
      "cell_type": "code",
      "source": [
        "# bike.py\n",
        "# creamos la clase bike\n",
        "class Bike:\n",
        "     def __init__(self, colour, frame_material):\n",
        "        self.colour = colour\n",
        "        self.frame_material = frame_material\n",
        "     def brake(self):\n",
        "        print(\"Frenado!\")\n",
        "#creamos par de instancias\n",
        "red_bike = Bike('Rojo', 'Fibra de Carbon')\n",
        "blue_bike = Bike('Azul', 'Acero')\n",
        "# objetos que tenemos\n",
        "print(red_bike.colour) # imprime: Rojo\n",
        "print(red_bike.frame_material) # imprime: fibra de carbono\n",
        "print(blue_bike.colour) # prints: Azul\n",
        "print(blue_bike.frame_material) # imprime: Acero\n",
        "# creamos el frenado\n",
        "red_bike.brake() # prints: Frenado!"
      ],
      "metadata": {
        "colab": {
          "base_uri": "https://localhost:8080/"
        },
        "id": "ku-KXfJm71zN",
        "outputId": "6e8752d9-886b-4698-ffe8-fbeec05a9df7"
      },
      "execution_count": 7,
      "outputs": [
        {
          "output_type": "stream",
          "name": "stdout",
          "text": [
            "Rojo\n",
            "Fibra de Carbon\n",
            "Azul\n",
            "Acero\n",
            "Frenado!\n"
          ]
        }
      ]
    },
    {
      "cell_type": "code",
      "source": [
        "age = 42\n",
        "id(age)\n",
        "\n"
      ],
      "metadata": {
        "colab": {
          "base_uri": "https://localhost:8080/"
        },
        "id": "YAICYKAk8kMC",
        "outputId": "3ffd607c-7569-4217-c8a9-04b1a5904aa3"
      },
      "execution_count": 10,
      "outputs": [
        {
          "output_type": "execute_result",
          "data": {
            "text/plain": [
              "134210796553744"
            ]
          },
          "metadata": {},
          "execution_count": 10
        }
      ]
    },
    {
      "cell_type": "code",
      "source": [
        "class Person:\n",
        "     def __init__(self, age):\n",
        "         self.age = age\n",
        "\n",
        "fab = Person(age=42)\n",
        "print(fab.age)#imprime 42\n",
        "\n",
        "print(id(fab))#nuevo id\n",
        "\n",
        "print(id(fab.age))#nuevo id\n",
        "\n",
        "fab.age = 25\n",
        "print(id(fab)) #nuevo id para edad nueva 25\n",
        "\n",
        "print(id(fab.age)) #nuevo id para edad nueva 25\n"
      ],
      "metadata": {
        "colab": {
          "base_uri": "https://localhost:8080/"
        },
        "id": "idMGtfRu9LQS",
        "outputId": "3b400396-04e1-4851-80bd-d29a764885a4"
      },
      "execution_count": 15,
      "outputs": [
        {
          "output_type": "stream",
          "name": "stdout",
          "text": [
            "42\n",
            "134210368476960\n",
            "134210796553744\n",
            "134210368476960\n",
            "134210796553200\n"
          ]
        }
      ]
    },
    {
      "cell_type": "markdown",
      "source": [
        "Ejercicio 3- Numeros Complejos"
      ],
      "metadata": {
        "id": "z_ADxLtA-xT1"
      }
    },
    {
      "cell_type": "code",
      "source": [
        "c = 3.14 + 2.73j\n",
        "c = complex(3.14, 2.73)\n",
        "c = 3.14 + 2.73j\n",
        "\n",
        "print(c.real)\n",
        "print(c.imag) # parte imaginaria\n",
        "\n",
        "print(c.conjugate()) # conjugado de A + Bj es A - Bj\n",
        "\n",
        "print(c * 2) # multiplicacion\n",
        "\n",
        "print(c ** 2) #  multiplicacion doble\n",
        "#(2.4067000000000007+17.1444j)\n",
        "d = 1 + 1j # suma y resta\n",
        "print(c - d)\n",
        "#(2.14+1.73j)"
      ],
      "metadata": {
        "colab": {
          "base_uri": "https://localhost:8080/"
        },
        "id": "F-vhT9Tq-02v",
        "outputId": "2336f18b-baed-4fb7-a7e8-19dfdf3f4667"
      },
      "execution_count": 18,
      "outputs": [
        {
          "output_type": "stream",
          "name": "stdout",
          "text": [
            "3.14\n",
            "2.73\n",
            "(3.14-2.73j)\n",
            "(6.28+5.46j)\n",
            "(2.4067000000000007+17.1444j)\n",
            "(2.14+1.73j)\n"
          ]
        }
      ]
    },
    {
      "cell_type": "markdown",
      "source": [
        "Ejercicio 4- Fracciones"
      ],
      "metadata": {
        "id": "iO-TCpnaBRUr"
      }
    },
    {
      "cell_type": "code",
      "source": [
        "from fractions import Fraction\n",
        "print(Fraction(10, 6))\n",
        "\n",
        "print(Fraction(1, 3) + Fraction(2, 3)) # 1/3 + 2/3 == 3/3 == 1/1\n",
        "\n",
        "f = Fraction(10, 6)\n",
        "print(f.numerator)\n",
        "\n",
        "print(f.denominator)\n",
        "\n",
        "print(f.as_integer_ratio())\n"
      ],
      "metadata": {
        "colab": {
          "base_uri": "https://localhost:8080/"
        },
        "id": "BKn7IwuyBT48",
        "outputId": "97ab6e0f-e0bd-43c5-9ed4-853ad7451379"
      },
      "execution_count": 22,
      "outputs": [
        {
          "output_type": "stream",
          "name": "stdout",
          "text": [
            "5/3\n",
            "1\n",
            "5\n",
            "3\n",
            "(5, 3)\n"
          ]
        }
      ]
    },
    {
      "cell_type": "markdown",
      "source": [
        "\n",
        "Secuencias inmutables"
      ],
      "metadata": {
        "id": "g6O97g3zghhA"
      }
    },
    {
      "cell_type": "markdown",
      "source": [
        "Ejercicio 5- Strings and bytes"
      ],
      "metadata": {
        "id": "OfyFq4Algjkj"
      }
    },
    {
      "cell_type": "code",
      "source": [
        "\n",
        "str1 = 'This is a string. We built it with single quotes.'\n",
        "str2 = \"This is also a string, but built with double quotes.\"\n",
        "str3 = '''This is built using triple quotes,\n",
        "so it can span multiple lines.'''\n",
        "str4 = \"\"\"This too\n",
        "is a multiline one\n",
        "built with triple double-quotes.\"\"\"\n",
        "str4 #A\n",
        "'This too\\nis a multiline one\\nbuilt with triple double-quotes.'\n",
        "print(str4) #se imprime la variable"
      ],
      "metadata": {
        "colab": {
          "base_uri": "https://localhost:8080/"
        },
        "id": "4iVKH5nuxzrP",
        "outputId": "0237f387-cafc-475c-de73-4f942b648a5e"
      },
      "execution_count": 5,
      "outputs": [
        {
          "output_type": "stream",
          "name": "stdout",
          "text": [
            "This too\n",
            "is a multiline one\n",
            "built with triple double-quotes.\n"
          ]
        }
      ]
    },
    {
      "cell_type": "markdown",
      "source": [
        "Ejercicio 6"
      ],
      "metadata": {
        "id": "rxBCys09CySK"
      }
    },
    {
      "cell_type": "code",
      "source": [
        "# ternary.py\n",
        "order_total = int(input(\"Dime la cantidad: \"))# GBP\n",
        "\n",
        "if order_total > 100:\n",
        "   discount = 25 # GBP\n",
        "else:\n",
        "   discount = 0 # GBP\n",
        "print(order_total, discount)"
      ],
      "metadata": {
        "colab": {
          "base_uri": "https://localhost:8080/"
        },
        "id": "hOUSQyLiyqoS",
        "outputId": "0688f709-9a40-445a-a4e3-3066d62a05d2"
      },
      "execution_count": 25,
      "outputs": [
        {
          "output_type": "stream",
          "name": "stdout",
          "text": [
            "Dime la cantidad: 100\n",
            "100 0\n"
          ]
        }
      ]
    },
    {
      "cell_type": "markdown",
      "source": [
        "Ejercicio 7"
      ],
      "metadata": {
        "id": "Npx7aFjtIPyE"
      }
    },
    {
      "cell_type": "code",
      "source": [
        "# simple.for.4.py\n",
        "surnames = ['Rivest', 'Shamir', 'Adleman']\n",
        "for position, surname in enumerate(surnames):\n",
        "    print(position, surname)"
      ],
      "metadata": {
        "colab": {
          "base_uri": "https://localhost:8080/"
        },
        "id": "PodYWvwAH8M0",
        "outputId": "6f3d0dd2-acb0-4824-8b6a-e69b6fda49d6"
      },
      "execution_count": 28,
      "outputs": [
        {
          "output_type": "stream",
          "name": "stdout",
          "text": [
            "0 Rivest\n",
            "1 Shamir\n",
            "2 Adleman\n"
          ]
        }
      ]
    },
    {
      "cell_type": "markdown",
      "source": [
        "Ejercicio 8"
      ],
      "metadata": {
        "id": "TizHFeobIsKe"
      }
    },
    {
      "cell_type": "code",
      "source": [
        "# multiple.sequences.py\n",
        "people = ['Nick', 'Rick', 'Roger', 'Syd']\n",
        "ages = [23, 24, 23, 21]\n",
        "for position in range(len(people)):\n",
        "    person = people[position]\n",
        "    age = ages[position]\n",
        "    print(person, age)"
      ],
      "metadata": {
        "colab": {
          "base_uri": "https://localhost:8080/"
        },
        "id": "EPNZC5QyIvrx",
        "outputId": "cc47f897-dccf-46e7-ac83-6c523279a6c9"
      },
      "execution_count": 29,
      "outputs": [
        {
          "output_type": "stream",
          "name": "stdout",
          "text": [
            "Nick 23\n",
            "Rick 24\n",
            "Roger 23\n",
            "Syd 21\n"
          ]
        }
      ]
    },
    {
      "cell_type": "markdown",
      "source": [
        "Ejercicio 9"
      ],
      "metadata": {
        "id": "JSUyTUNcI8po"
      }
    },
    {
      "cell_type": "code",
      "source": [
        "# binary.py\n",
        "n = 39\n",
        "remainders = []\n",
        "while n > 0:\n",
        "    remainder = n % 2 # resto de la división por 2\n",
        "    remainders.append(remainder) # hacemos un seguimiento de los restos\n",
        "    n //= 2 # dividimos n por 2\n",
        "remainders.reverse()\n",
        "print(remainders)"
      ],
      "metadata": {
        "colab": {
          "base_uri": "https://localhost:8080/"
        },
        "id": "VG6DPWu7I-8j",
        "outputId": "b9f7e45c-f813-4999-f99b-076fa862aaf7"
      },
      "execution_count": 30,
      "outputs": [
        {
          "output_type": "stream",
          "name": "stdout",
          "text": [
            "[1, 0, 0, 1, 1, 1]\n"
          ]
        }
      ]
    },
    {
      "cell_type": "code",
      "source": [
        "# binary.2.py\n",
        "n = int(input(\"Numero a binario: \"))\n",
        "remainders = []\n",
        "while n > 0:\n",
        "    n, remainder = divmod(n, 2)\n",
        "    remainders.append(remainder)\n",
        "remainders.reverse()\n",
        "print(remainders)"
      ],
      "metadata": {
        "colab": {
          "base_uri": "https://localhost:8080/"
        },
        "id": "f82E_xLVJ2JB",
        "outputId": "812f75b8-0b94-4c78-d114-bc4e2da78aac"
      },
      "execution_count": 34,
      "outputs": [
        {
          "output_type": "stream",
          "name": "stdout",
          "text": [
            "Numero a binario: 39\n",
            "[1, 0, 0, 1, 1, 1]\n"
          ]
        }
      ]
    },
    {
      "cell_type": "markdown",
      "source": [
        "Ejercicio 10"
      ],
      "metadata": {
        "id": "XcnF4in5LF3q"
      }
    },
    {
      "cell_type": "code",
      "source": [
        "# multiple.sequences.while.py\n",
        "people = ['Nick', 'Rick', 'Roger', 'Syd']\n",
        "ages = [23, 24, 23, 21]\n",
        "position = 0\n",
        "while position < len(people):\n",
        "    person = people[position]\n",
        "    age = ages[position]\n",
        "    print(person, age)\n",
        "    position += 1"
      ],
      "metadata": {
        "colab": {
          "base_uri": "https://localhost:8080/"
        },
        "id": "5CpP7EBeLKIY",
        "outputId": "31c2f76c-5d74-4580-fe66-009fd07b8115"
      },
      "execution_count": 35,
      "outputs": [
        {
          "output_type": "stream",
          "name": "stdout",
          "text": [
            "Nick 23\n",
            "Rick 24\n",
            "Roger 23\n",
            "Syd 21\n"
          ]
        }
      ]
    },
    {
      "cell_type": "markdown",
      "source": [
        "Ejercicio 11"
      ],
      "metadata": {
        "id": "XrFr89KbLx42"
      }
    },
    {
      "cell_type": "code",
      "source": [
        "# discount.py\n",
        "from datetime import date, timedelta\n",
        "today = date.today()\n",
        "tomorrow = today + timedelta(days=1) # hoy + 1 dia es manana\n",
        "products = [\n",
        "{'sku': '1', 'expiration_date': today, 'price': 100.0},\n",
        "{'sku': '2', 'expiration_date': tomorrow, 'price': 50},\n",
        "{'sku': '3', 'expiration_date': today, 'price': 20},\n",
        "]\n",
        "for product in products:\n",
        "    if product['expiration_date'] != today:\n",
        "        continue\n",
        "    product['price'] *= 0.8 # equivalente para aplicar 20% de descuento\n",
        "    print(\n",
        "         'Price for sku', product['sku'],\n",
        "         'is now', product['price'])"
      ],
      "metadata": {
        "colab": {
          "base_uri": "https://localhost:8080/"
        },
        "id": "ppboRncZL0Aa",
        "outputId": "0a204704-7a57-47d6-ca8a-8bf70b19a236"
      },
      "execution_count": 36,
      "outputs": [
        {
          "output_type": "stream",
          "name": "stdout",
          "text": [
            "Price for sku 1 is now 80.0\n",
            "Price for sku 3 is now 16.0\n"
          ]
        }
      ]
    },
    {
      "cell_type": "markdown",
      "source": [
        "Ejercicio 12"
      ],
      "metadata": {
        "id": "WLylrnuwEHN1"
      }
    },
    {
      "cell_type": "code",
      "source": [
        "# any.py\n",
        "items = [0, None, 0.0, True, 0, 7] # Se evalua como verdadero\n",
        "found = False # esto se llama \"bandera\"\n",
        "for item in items:#para cada elemento\n",
        "    print('scanning item', item)\n",
        "    if item:\n",
        "        found = True # actualiza la bandera\n",
        "        break\n",
        "if found: # inspeccionar la bandera\n",
        "    print('At least one item evaluates to True')\n",
        "else:\n",
        "    print('All items evaluate to False')"
      ],
      "metadata": {
        "colab": {
          "base_uri": "https://localhost:8080/"
        },
        "id": "i4hFaBGEEJRG",
        "outputId": "21f0dcfd-d6d2-46b1-de15-fb473e0ecd2b"
      },
      "execution_count": 1,
      "outputs": [
        {
          "output_type": "stream",
          "name": "stdout",
          "text": [
            "scanning item 0\n",
            "scanning item None\n",
            "scanning item 0.0\n",
            "scanning item True\n",
            "At least one item evaluates to True\n"
          ]
        }
      ]
    },
    {
      "cell_type": "markdown",
      "source": [
        "Ejercicio 13"
      ],
      "metadata": {
        "id": "e3VyHCwlianj"
      }
    },
    {
      "cell_type": "code",
      "source": [
        "# menu.no.walrus.py\n",
        "flavors = [\"pistachio\", \"malaga\", \"vanilla\", \"chocolate\", \"strawberry\"]\n",
        "prompt = \"Choose your flavor: \"\n",
        "print(flavors)#se imprimen los sabores\n",
        "while True:\n",
        "    choice = input(prompt)#se escoge el sabor\n",
        "    if choice in flavors:\n",
        "        break\n",
        "    print(f\"Sorry, '{choice}' is not a valid option.\")#se imprime si el sabor no se encuentra\n",
        "print(f\"You chose '{choice}'.\")#si escogiste uno de los sabores de arriba"
      ],
      "metadata": {
        "colab": {
          "base_uri": "https://localhost:8080/"
        },
        "id": "KConTYaMidxV",
        "outputId": "a80a194d-587b-40ec-fc7b-7fb181aacd1e"
      },
      "execution_count": 10,
      "outputs": [
        {
          "output_type": "stream",
          "name": "stdout",
          "text": [
            "['pistachio', 'malaga', 'vanilla', 'chocolate', 'strawberry']\n",
            "Choose your flavor: fresa\n",
            "Sorry, 'fresa' is not a valid option.\n",
            "Choose your flavor: chocolate\n",
            "You chose 'chocolate'.\n"
          ]
        }
      ]
    },
    {
      "cell_type": "markdown",
      "source": [
        "Ejercicio 14"
      ],
      "metadata": {
        "id": "5hWYXC5Qldh0"
      }
    },
    {
      "cell_type": "code",
      "source": [
        "# primes.py\n",
        "primes = [] # para números primos al final\n",
        "upto = 100 # numeros primos hasta el 100\n",
        "for n in range(2, upto + 1):\n",
        "    is_prime = True # para cada iteracion\n",
        "    for divisor in range(2, n):\n",
        "        if n % divisor == 0:\n",
        "           is_prime = False\n",
        "           break\n",
        "    if is_prime: # checar en el arreglo\n",
        "        primes.append(n)\n",
        "print(primes)"
      ],
      "metadata": {
        "colab": {
          "base_uri": "https://localhost:8080/"
        },
        "id": "h_BXaHSLlf0_",
        "outputId": "c65f234d-25c9-4e8d-c557-c33e4517a33e"
      },
      "execution_count": 11,
      "outputs": [
        {
          "output_type": "stream",
          "name": "stdout",
          "text": [
            "[2, 3, 5, 7, 11, 13, 17, 19, 23, 29, 31, 37, 41, 43, 47, 53, 59, 61, 67, 71, 73, 79, 83, 89, 97]\n"
          ]
        }
      ]
    },
    {
      "cell_type": "markdown",
      "source": [
        "Ejercicio 15"
      ],
      "metadata": {
        "id": "uwdz00ucmt5l"
      }
    },
    {
      "cell_type": "code",
      "source": [
        "# coupons.py\n",
        "customers = [\n",
        "    dict(id=1, total=200, coupon_code='F20'), # F20: fijo, £20\n",
        "    dict(id=2, total=150, coupon_code='P30'), # P30: porciento, 30%\n",
        "    dict(id=3, total=100, coupon_code='P50'), # P50: porciento, 50%\n",
        "    dict(id=4, total=110, coupon_code='F15'), # F15: fijo, £15\n",
        "]\n",
        "for customer in customers:\n",
        "    code = customer['coupon_code']\n",
        "    if code == 'F20':\n",
        "        customer['discount'] = 20.0\n",
        "    elif code == 'F15':\n",
        "        customer['discount'] = 15.0\n",
        "    elif code == 'P30':\n",
        "        customer['discount'] = customer['total'] * 0.3\n",
        "    elif code == 'P50':\n",
        "        customer['discount'] = customer['total'] * 0.5\n",
        "    else:\n",
        "        customer['discount'] = 0.0\n",
        "for customer in customers:\n",
        "    print(customer['id'], customer['total'], customer['discount'])"
      ],
      "metadata": {
        "colab": {
          "base_uri": "https://localhost:8080/"
        },
        "id": "cFiLBopFmwof",
        "outputId": "0fa0d020-e316-4c26-ba13-799e2d002736"
      },
      "execution_count": 20,
      "outputs": [
        {
          "output_type": "stream",
          "name": "stdout",
          "text": [
            "1 200 20.0\n",
            "2 150 45.0\n",
            "3 100 50.0\n",
            "4 110 15.0\n"
          ]
        }
      ]
    },
    {
      "cell_type": "markdown",
      "source": [
        "Ejercicio 16"
      ],
      "metadata": {
        "id": "Uj0bF9FPqYym"
      }
    },
    {
      "cell_type": "code",
      "source": [
        "# infinite.py\n",
        "from itertools import count\n",
        "for n in count(5, 3):#contar apartir del 5, sumando 3\n",
        "    if n > 20: #hasta el 20\n",
        "        break\n",
        "    print(n, end=', ') # imprimir los numeros"
      ],
      "metadata": {
        "colab": {
          "base_uri": "https://localhost:8080/"
        },
        "id": "8IaHJVP-qbnq",
        "outputId": "c280cda5-9ce7-4c17-c048-44598fa8c50e"
      },
      "execution_count": 21,
      "outputs": [
        {
          "output_type": "stream",
          "name": "stdout",
          "text": [
            "5, 8, 11, 14, 17, 20, "
          ]
        }
      ]
    },
    {
      "cell_type": "markdown",
      "source": [
        "Ejercicio 17"
      ],
      "metadata": {
        "id": "Pb7AmCaqrDLS"
      }
    },
    {
      "cell_type": "code",
      "source": [
        "# compress.py\n",
        "from itertools import compress\n",
        "data = range(10)\n",
        "even_selector = [1, 0] * 10\n",
        "odd_selector = [0, 1] * 10 #0,1 10 veces\n",
        "even_numbers = list(compress(data, even_selector))\n",
        "odd_numbers = list(compress(data, odd_selector))\n",
        "print(odd_selector)\n",
        "print(list(data))#imprime primeros diez nuemeros\n",
        "print(even_numbers)#numeros pares\n",
        "print(odd_numbers)#numeros impares"
      ],
      "metadata": {
        "colab": {
          "base_uri": "https://localhost:8080/"
        },
        "id": "KNwWlCOYrFnp",
        "outputId": "3a1b384e-93c0-4532-d0ee-1dcfa1431318"
      },
      "execution_count": 22,
      "outputs": [
        {
          "output_type": "stream",
          "name": "stdout",
          "text": [
            "[0, 1, 0, 1, 0, 1, 0, 1, 0, 1, 0, 1, 0, 1, 0, 1, 0, 1, 0, 1]\n",
            "[0, 1, 2, 3, 4, 5, 6, 7, 8, 9]\n",
            "[0, 2, 4, 6, 8]\n",
            "[1, 3, 5, 7, 9]\n"
          ]
        }
      ]
    },
    {
      "cell_type": "markdown",
      "source": [
        "Ejercicio 18"
      ],
      "metadata": {
        "id": "CtxvQUTdrx9J"
      }
    },
    {
      "cell_type": "code",
      "source": [
        "# permutations.py\n",
        "from itertools import permutations\n",
        "print(list(permutations('ABC')))#imprime todas las combinaciones"
      ],
      "metadata": {
        "colab": {
          "base_uri": "https://localhost:8080/"
        },
        "id": "8IWRlrM8r0DB",
        "outputId": "fe921af8-38ba-4de9-b0fb-41d867ee4c07"
      },
      "execution_count": 23,
      "outputs": [
        {
          "output_type": "stream",
          "name": "stdout",
          "text": [
            "[('A', 'B', 'C'), ('A', 'C', 'B'), ('B', 'A', 'C'), ('B', 'C', 'A'), ('C', 'A', 'B'), ('C', 'B', 'A')]\n"
          ]
        }
      ]
    },
    {
      "cell_type": "markdown",
      "source": [
        "Ejercicio 19"
      ],
      "metadata": {
        "id": "tRL20mGTsUgd"
      }
    },
    {
      "cell_type": "code",
      "source": [
        "# matrix.multiplication.nofunc.py\n",
        "a = [[1, 2], [3, 4]]\n",
        "b = [[5, 1], [2, 1]]\n",
        "c = [[sum(i * j for i, j in zip(r, c)) for c in zip(*b)]\n",
        "for r in a]#multiplicacion\n",
        "print(c)#resultado"
      ],
      "metadata": {
        "colab": {
          "base_uri": "https://localhost:8080/"
        },
        "id": "n80k1vgDsWW5",
        "outputId": "ee3f6a66-042b-429f-e139-7ad1c170442a"
      },
      "execution_count": 29,
      "outputs": [
        {
          "output_type": "stream",
          "name": "stdout",
          "text": [
            "[[9, 3], [23, 7]]\n"
          ]
        }
      ]
    },
    {
      "cell_type": "markdown",
      "source": [
        "Ejercicio 20"
      ],
      "metadata": {
        "id": "TotOCLLBtl-7"
      }
    },
    {
      "cell_type": "code",
      "source": [
        "# scoping.level.2.py\n",
        "def outer():\n",
        "    test = 1 # externo\n",
        "    def inner():\n",
        "        test = 2 # interno\n",
        "        print('inner:', test)\n",
        "    inner()\n",
        "    print('outer:', test)\n",
        "\n",
        "test = 0 # global\n",
        "outer()\n",
        "print('global:', test)"
      ],
      "metadata": {
        "colab": {
          "base_uri": "https://localhost:8080/"
        },
        "id": "F-nMHWaatoTq",
        "outputId": "4d66df65-ae1d-4a70-8ba7-b8b5986d09a9"
      },
      "execution_count": 31,
      "outputs": [
        {
          "output_type": "stream",
          "name": "stdout",
          "text": [
            "inner: 2\n",
            "outer: 1\n",
            "global: 0\n"
          ]
        }
      ]
    },
    {
      "cell_type": "markdown",
      "source": [
        "Ejercicio 21"
      ],
      "metadata": {
        "id": "YbWBKyoIuQl3"
      }
    },
    {
      "cell_type": "code",
      "source": [
        "# key.points.argument.passing.py\n",
        "x = 3\n",
        "def func(y):\n",
        "    print(y)\n",
        "func(x) # prints: 3"
      ],
      "metadata": {
        "colab": {
          "base_uri": "https://localhost:8080/"
        },
        "id": "0Qj25bDnuT6_",
        "outputId": "0a0046c8-be12-40c6-edc0-437a9b070755"
      },
      "execution_count": 32,
      "outputs": [
        {
          "output_type": "stream",
          "name": "stdout",
          "text": [
            "3\n"
          ]
        }
      ]
    },
    {
      "cell_type": "markdown",
      "source": [
        "Ejercicio 22"
      ],
      "metadata": {
        "id": "YARlZ8uDu4mb"
      }
    },
    {
      "cell_type": "code",
      "source": [
        "# key.points.mutable.py\n",
        "x = [1, 2, 3]\n",
        "def func(x):\n",
        "  x[1] = 42 # cambia el valor del argumento numero 2\n",
        "func(x)\n",
        "print(x) # prints: [1, 42, 3]"
      ],
      "metadata": {
        "colab": {
          "base_uri": "https://localhost:8080/"
        },
        "id": "tP63Z2Rnu6XL",
        "outputId": "c329c068-313c-4f47-87bc-9e8d72f4ac66"
      },
      "execution_count": 33,
      "outputs": [
        {
          "output_type": "stream",
          "name": "stdout",
          "text": [
            "[1, 42, 3]\n"
          ]
        }
      ]
    },
    {
      "cell_type": "markdown",
      "source": [
        "Ejercicio 23"
      ],
      "metadata": {
        "id": "N5-1AlZ3vRud"
      }
    },
    {
      "cell_type": "code",
      "source": [
        "# arguments.combined.py\n",
        "def func(a, b, c, d, e, f):\n",
        "    print(a, b, c, d, e, f)\n",
        "#diferentes maneras de expresar el argumento\n",
        "func(1, *(2, 3), f=6, *(4, 5))\n",
        "func(*(1, 2), e=5, *(3, 4), f=6)\n",
        "func(1, **{'b': 2, 'c': 3}, d=4, **{'e': 5, 'f': 6})\n",
        "func(c=3, *(1, 2), **{'d': 4}, e=5, **{'f': 6})"
      ],
      "metadata": {
        "colab": {
          "base_uri": "https://localhost:8080/"
        },
        "id": "Nc1gHzXnvTvr",
        "outputId": "b007cf5d-9df3-44b4-afd1-4f7f67bf9cb2"
      },
      "execution_count": 36,
      "outputs": [
        {
          "output_type": "stream",
          "name": "stdout",
          "text": [
            "1 2 3 4 5 6\n",
            "1 2 3 4 5 6\n",
            "1 2 3 4 5 6\n",
            "1 2 3 4 5 6\n"
          ]
        }
      ]
    },
    {
      "cell_type": "markdown",
      "source": [
        "Ejercicio 24"
      ],
      "metadata": {
        "id": "drjpwEmdwc8-"
      }
    },
    {
      "cell_type": "code",
      "source": [
        "# return.single.value.py\n",
        "def factorial(n):\n",
        "    if n in (0, 1):\n",
        "       return 1\n",
        "    result = n\n",
        "    for k in range(2, n):\n",
        "          result *= k\n",
        "    return result\n",
        "f5 = factorial(5) # f5 = 120\n",
        "print(f5)"
      ],
      "metadata": {
        "colab": {
          "base_uri": "https://localhost:8080/"
        },
        "id": "0E6b4f0pwe1O",
        "outputId": "7c587dda-5665-43d4-965f-a14804809b3e"
      },
      "execution_count": 39,
      "outputs": [
        {
          "output_type": "stream",
          "name": "stdout",
          "text": [
            "120\n"
          ]
        }
      ]
    },
    {
      "cell_type": "markdown",
      "source": [
        "Ejercicio 25"
      ],
      "metadata": {
        "id": "pxrwYfMbw06Q"
      }
    },
    {
      "cell_type": "code",
      "source": [
        "# func.attributes.py\n",
        "def multiplication(a, b=1):\n",
        "    \"\"\"Return a multiplied by b. \"\"\"\n",
        "    return a * b\n",
        "if __name__ == \"__main__\":\n",
        "    special_attributes = [\n",
        "        \"__doc__\", \"__name__\", \"__qualname__\", \"__module__\",\n",
        "        \"__defaults__\", \"__code__\", \"__globals__\", \"__dict__\",\n",
        "        \"__closure__\", \"__annotations__\", \"__kwdefaults__\",\n",
        "]\n",
        "    for attribute in special_attributes:\n",
        "        print(attribute, '->', getattr(multiplication, attribute))"
      ],
      "metadata": {
        "colab": {
          "base_uri": "https://localhost:8080/"
        },
        "id": "e7mOvrkuw26a",
        "outputId": "2701c7fe-428e-49ae-c24d-b68077e6969f"
      },
      "execution_count": 40,
      "outputs": [
        {
          "output_type": "stream",
          "name": "stdout",
          "text": [
            "__doc__ -> Return a multiplied by b. \n",
            "__name__ -> multiplication\n",
            "__qualname__ -> multiplication\n",
            "__module__ -> __main__\n",
            "__defaults__ -> (1,)\n",
            "__code__ -> <code object multiplication at 0x7d64b48e3b50, file \"<ipython-input-40-b80ad16584f2>\", line 2>\n",
            "__globals__ -> {'__name__': '__main__', '__doc__': 'Automatically created module for IPython interactive environment', '__package__': None, '__loader__': None, '__spec__': None, '__builtin__': <module 'builtins' (built-in)>, '__builtins__': <module 'builtins' (built-in)>, '_ih': ['', '# any.py\\nitems = [0, None, 0.0, True, 0, 7] # True and 7 evaluate to True\\nfound = False # this is called \"flag\"\\nfor item in items:\\n    print(\\'scanning item\\', item)\\n    if item:\\n        found = True # we update the flag\\n        break\\nif found: # we inspect the flag\\n    print(\\'At least one item evaluates to True\\')\\nelse:\\n    print(\\'All items evaluate to False\\')', \"# for.no.else.py\\nclass DriverException(Exception):\\n    pass\\npeople = [('James', 17), ('Kirk', 9), ('Lars', 13), ('Robert', 8)]\\ndriver = None\\nfor person, age in people:\\n    if age >= 18:\\n        driver = (person, age)\\n        break\\nif driver is None:\\n    raise DriverException('Driver not found.')\", \"# for.no.else.py\\nclass DriverException(Exception):\\n    pass\\npeople = [('James', 17), ('Kirk', 9), ('Lars', 13), ('Robert', 8)]\\ndriver = None\\nfor person, age in people:\\n    if age >= 18:\\n        driver = (person, age)\\n        break\\nif driver is None:\\n     raise DriverException('Driver not found.')\", \"# for.no.else.py\\nclass DriverException(Exception):\\n    pass\\npeople = [('James', 17), ('Kirk', 9), ('Lars', 13), ('Robert', 8)]\\ndriver = None\\nfor person, age in people:\\n    if age >= 18:\\n        driver = (person, age)\\n        break\\n        \\nif driver is None:\\n     raise DriverException('Driver not found.')\", \"# for.no.else.py\\nclass DriverException(Exception):\\n    pass\\npeople = [('James', 17), ('Kirk', 9), ('Lars', 13), ('Robert', 8)]\\ndriver = None\\nfor person, age in people:\\n    if age >= 18:\\n        driver = (person, age)\\n        break\\n\\nif driver is None:\\n   raise DriverException('Driver not found.')\", \"# for.else.py\\nclass DriverException(Exception):\\n     pass\\npeople = [('James', 17), ('Kirk', 9), ('Lars', 13), ('Robert', 8)]\\nfor person, age in people:\\n    if age >= 18:\\n         driver = (person, age)\\n         break\\nelse:\\n    raise DriverException('Driver not found.')\", \"# for.else.py\\nclass DriverException(Exception):\\n     pass\\npeople = [('James', 17), ('Kirk', 9), ('Lars', 13), ('Robert', 8)]\\nfor person, age in people:\\n    if age >= 18:\\n         driver = (person, age)\\n         break\\nelse:\\n     raise DriverException('Driver not found.')\", \"# for.else.py\\nclass DriverException(Exception):\\n     pass\\npeople = [('James', 17), ('Kirk', 9), ('Lars', 13), ('Robert', 8)]\\nfor person, age in people:\\n    if age >= 18:\\n         driver = (person, age)\\n         break\\nelse:\\n     raise DriverException('Driver not found.')\", '# menu.no.walrus.py\\nflavors = [\"pistachio\", \"malaga\", \"vanilla\", \"chocolate\", \"strawberry\"]\\nprompt = \"Choose your flavor: \"\\nprint(flavors)\\nwhile True:\\n    choice = input(prompt)\\n    if choice in flavors:\\n        break\\n    print(f\"Sorry, \\'{choice}\\' is not a valid option.\")\\nprint(f\"You chose \\'{choice}\\'.\")', '# menu.no.walrus.py\\nflavors = [\"pistachio\", \"malaga\", \"vanilla\", \"chocolate\", \"strawberry\"]\\nprompt = \"Choose your flavor: \"\\nprint(flavors)\\nwhile True:\\n    choice = input(prompt)\\n    if choice in flavors:\\n        break\\n    print(f\"Sorry, \\'{choice}\\' is not a valid option.\")\\nprint(f\"You chose \\'{choice}\\'.\")', '# primes.py\\nprimes = [] # this will contain the primes at the end\\nupto = 100 # the limit, inclusive\\nfor n in range(2, upto + 1):\\n    is_prime = True # flag, new at each iteration of outer for\\n    for divisor in range(2, n):\\n        if n % divisor == 0:\\n           is_prime = False\\n           break\\n    if is_prime: # check on flag\\n        primes.append(n)\\nprint(primes)', '*(switch.js, */)\\nswitch (day_number) {\\n    case 1:\\n    case 2:\\n    case 3:\\n    case 4:\\n    case 5:\\n        day = \"Weekday\";\\n        break;\\n    case 6:\\n        day = \"Saturday\";\\n        break;\\n    case 0:\\n        day = \"Sunday\";\\n        break;\\n    default:\\n        day = \"\";\\n        alert(day_number + \\' is not a valid day number.\\')\\n}', '#/* switch.js */\\nswitch (day_number) {\\n    case 1:\\n    case 2:\\n    case 3:\\n    case 4:\\n    case 5:\\n        day = \"Weekday\";\\n        break;\\n    case 6:\\n        day = \"Saturday\";\\n        break;\\n    case 0:\\n        day = \"Sunday\";\\n        break;\\n    default:\\n        day = \"\";\\n        alert(day_number + \\' is not a valid day number.\\')\\n}', '#/* switch.js */\\nswitch(day_number){\\n    case 1:\\n    case 2:\\n    case 3:\\n    case 4:\\n    case 5:\\n        day = \"Weekday\";\\n        break;\\n    case 6:\\n        day = \"Saturday\";\\n        break;\\n    case 0:\\n        day = \"Sunday\";\\n        break;\\n    default:\\n        day = \"\";\\n        alert(day_number + \\' is not a valid day number.\\')\\n}', \"# switch.py\\nif 1 <= day_number <= 5:\\n    day = 'Weekday'\\nelif day_number == 6:\\n    day = 'Saturday'\\nelif day_number == 0:\\n    day = 'Sunday'\\nelse:\\n    day = ''\\n    raise ValueError(\\n        str(day_number) + ' is not a valid day number.')\", \"# switch.py\\nday_number = True\\nif 1 <= day_number <= 5:\\n    day = 'Weekday'\\nelif day_number == 6:\\n    day = 'Saturday'\\nelif day_number == 0:\\n    day = 'Sunday'\\nelse:\\n    day = ''\\n    raise ValueError(\\n        str(day_number) + ' is not a valid day number.')\", \"# switch.py\\nday_number = True\\nif 1 <= day_number <= 5:\\n    day = 'Weekday'\\nelif day_number == 6:\\n    day = 'Saturday'\\nelif day_number == 0:\\n    day = 'Sunday'\\nelse:\\n    day = ''\\n    raise ValueError(\\n        str(day_number) + ' is not a valid day number.')\", '# switch.py\\nday_number = str(input(\"daynumber; \" ))\\nif 1 <= day_number <= 5:\\n    day = \\'Weekday\\'\\nelif day_number == 6:\\n    day = \\'Saturday\\'\\nelif day_number == 0:\\n    day = \\'Sunday\\'\\nelse:\\n    day = \\'\\'\\n    raise ValueError(\\n        str(day_number) + \\' is not a valid day number.\\')', \"# switch.py\\nif 1 <= day_number <= 5:\\n    day = 'Weekday'\\nelif day_number == 6:\\n    day = 'Saturday'\\nelif day_number == 0:\\n    day = 'Sunday'\\nelse:\\n    day = ''\\n    raise ValueError(\\n        str(day_number) + ' is not a valid day number.')\", \"# coupons.py\\ncustomers = [\\n    dict(id=1, total=200, coupon_code='F20'), # F20: fixed, £20\\n    dict(id=2, total=150, coupon_code='P30'), # P30: percent, 30%\\n    dict(id=3, total=100, coupon_code='P50'), # P50: percent, 50%\\n    dict(id=4, total=110, coupon_code='F15'), # F15: fixed, £15\\n]\\nfor customer in customers:\\n    code = customer['coupon_code']\\n    if code == 'F20':\\n        customer['discount'] = 20.0\\n    elif code == 'F15':\\n        customer['discount'] = 15.0\\n    elif code == 'P30':\\n        customer['discount'] = customer['total'] * 0.3\\n    elif code == 'P50':\\n        customer['discount'] = customer['total'] * 0.5\\n    else:\\n        customer['discount'] = 0.0\\nfor customer in customers:\\n    print(customer['id'], customer['total'], customer['discount'])\", \"# infinite.py\\nfrom itertools import count\\nfor n in count(5, 3):\\n    if n > 20:\\n        break\\n    print(n, end=', ') # instead of newline, comma and space\", '# compress.py\\nfrom itertools import compress\\ndata = range(10)\\neven_selector = [1, 0] * 10\\nodd_selector = [0, 1] * 10\\neven_numbers = list(compress(data, even_selector))\\nodd_numbers = list(compress(data, odd_selector))\\nprint(odd_selector)\\nprint(list(data))\\nprint(even_numbers)\\nprint(odd_numbers)', \"# permutations.py\\nfrom itertools import permutations\\nprint(list(permutations('ABC')))\", '# data.science.example.py\\ndef do_report(data_source):\\n    # fetch and prepare data\\n    data = fetch_data(data_source)\\n    parsed_data = parse_data(data)\\n    filtered_data = filter_data(parsed_data)\\n    polished_data = polish_data(filtered_data)\\n    # run algorithms on data\\n    final_data = analyse(polished_data)\\n    # create and return report\\n    report = Report(final_data)\\n    return report', '# data.science.example.py\\ndef do_report(data_source):\\n    # fetch and prepare data\\n    data = fetch_data(data_source)\\n    parsed_data = parse_data(data)\\n    filtered_data = filter_data(parsed_data)\\n    polished_data = polish_data(filtered_data)\\n    # run algorithms on data\\n    final_data = analyse(polished_data)\\n    # create and return report\\n    report = Report(final_data)\\n    return report', '# data.science.example.py\\ndef do_report(data_source):\\n    # fetch and prepare data\\n    data = fetch_data(data_source)\\n    parsed_data = parse_data(data)\\n    filtered_data = filter_data(parsed_data)\\n    polished_data = polish_data(filtered_data)\\n    # run algorithms on data\\n    final_data = analyse(polished_data)\\n    # create and return report\\n    report = Report(final_data)\\n    return report', '# data.science.example.py\\ndef do_report(data_source):\\n    # fetch and prepare data\\n    data = fetch_data(data_source)\\n    parsed_data = parse_data(data)\\n    filtered_data = filter_data(parsed_data)\\n    polished_data = polish_data(filtered_data)\\n    # run algorithms on data\\n    final_data = analyse(polished_data)\\n    # create and return report\\n    report = Report(final_data)\\n    return report', '# matrix.multiplication.nofunc.py\\na = [[1, 2], [3, 4]]\\nb = [[5, 1], [2, 1]]\\nc = [[sum(i * j for i, j in zip(r, c)) for c in zip(*b)]\\nfor r in a]', '# matrix.multiplication.nofunc.py\\na = [[1, 2], [3, 4]]\\nb = [[5, 1], [2, 1]]\\nc = [[sum(i * j for i, j in zip(r, c)) for c in zip(*b)]\\nfor r in a]\\nprint(c)', \"# scoping.level.2.py\\ndef outer():\\n    test = 1 # outer scope\\n    def inner():\\n        test = 2 # inner scope\\n        print('inner:', test)\\n    inner()\\n        print('outer:', test)\\n\\ntest = 0 # global scope\\nouter()\\nprint('global:', test)\", \"# scoping.level.2.py\\ndef outer():\\n    test = 1 # outer scope\\n    def inner():\\n        test = 2 # inner scope\\n        print('inner:', test)\\n    inner()\\n    print('outer:', test)\\n\\ntest = 0 # global scope\\nouter()\\nprint('global:', test)\", '# key.points.argument.passing.py\\nx = 3\\ndef func(y):\\n    print(y)\\nfunc(x) # prints: 3', \"# key.points.mutable.py\\nx = [1, 2, 3]\\ndef func(x):\\n  x[1] = 42 # this affects the 'x' argument!\\nfunc(x)\\nprint(x) # prints: [1, 42, 3]\", \"# arguments.combined.py\\ndef func(a, b, c, d, e, f):\\nprint(a, b, c, d, e, f)\\nfunc(1, *(2, 3), f=6, *(4, 5))\\nfunc(*(1, 2), e=5, *(3, 4), f=6)\\nfunc(1, **{'b': 2, 'c': 3}, d=4, **{'e': 5, 'f': 6})\\nfunc(c=3, *(1, 2), **{'d': 4}, e=5, **{'f': 6})\", \"# arguments.combined.py\\ndef func(a, b, c, d, e, f):\\n     print(a, b, c, d, e, f)\\nfunc(1, *(2, 3), f=6, *(4, 5))\\nfunc(*(1, 2), e=5, *(3, 4), f=6)\\nfunc(1, **{'b': 2, 'c': 3}, d=4, **{'e': 5, 'f': 6})\\nfunc(c=3, *(1, 2), **{'d': 4}, e=5, **{'f': 6})\", \"# arguments.combined.py\\ndef func(a, b, c, d, e, f):\\n    print(a, b, c, d, e, f)\\nfunc(1, *(2, 3), f=6, *(4, 5))\\nfunc(*(1, 2), e=5, *(3, 4), f=6)\\nfunc(1, **{'b': 2, 'c': 3}, d=4, **{'e': 5, 'f': 6})\\nfunc(c=3, *(1, 2), **{'d': 4}, e=5, **{'f': 6})\", '# return.single.value.py\\ndef factorial(n):\\n    if n in (0, 1):\\n       return 1\\n    result = n\\n    for k in range(2, n):\\n          result *= k\\n    return result\\nf5 = factorial(5) # f5 = 120', '# return.single.value.py\\ndef factorial(n):\\n    if n in (0, 1):\\n       return 1\\n    result = n\\n    for k in range(2, n):\\n          result *= k\\n    return result\\nf5 = factorial(5) # f5 = 120', '# return.single.value.py\\ndef factorial(n):\\n    if n in (0, 1):\\n       return 1\\n    result = n\\n    for k in range(2, n):\\n          result *= k\\n    return result\\nf5 = factorial(5) # f5 = 120\\nprint(f5)', '# func.attributes.py\\ndef multiplication(a, b=1):\\n    \"\"\"Return a multiplied by b. \"\"\"\\n    return a * b\\nif __name__ == \"__main__\":\\n    special_attributes = [\\n        \"__doc__\", \"__name__\", \"__qualname__\", \"__module__\",\\n        \"__defaults__\", \"__code__\", \"__globals__\", \"__dict__\",\\n        \"__closure__\", \"__annotations__\", \"__kwdefaults__\",\\n]\\n    for attribute in special_attributes:\\n        print(attribute, \\'->\\', getattr(multiplication, attribute))'], '_oh': {}, '_dh': ['/content'], 'In': ['', '# any.py\\nitems = [0, None, 0.0, True, 0, 7] # True and 7 evaluate to True\\nfound = False # this is called \"flag\"\\nfor item in items:\\n    print(\\'scanning item\\', item)\\n    if item:\\n        found = True # we update the flag\\n        break\\nif found: # we inspect the flag\\n    print(\\'At least one item evaluates to True\\')\\nelse:\\n    print(\\'All items evaluate to False\\')', \"# for.no.else.py\\nclass DriverException(Exception):\\n    pass\\npeople = [('James', 17), ('Kirk', 9), ('Lars', 13), ('Robert', 8)]\\ndriver = None\\nfor person, age in people:\\n    if age >= 18:\\n        driver = (person, age)\\n        break\\nif driver is None:\\n    raise DriverException('Driver not found.')\", \"# for.no.else.py\\nclass DriverException(Exception):\\n    pass\\npeople = [('James', 17), ('Kirk', 9), ('Lars', 13), ('Robert', 8)]\\ndriver = None\\nfor person, age in people:\\n    if age >= 18:\\n        driver = (person, age)\\n        break\\nif driver is None:\\n     raise DriverException('Driver not found.')\", \"# for.no.else.py\\nclass DriverException(Exception):\\n    pass\\npeople = [('James', 17), ('Kirk', 9), ('Lars', 13), ('Robert', 8)]\\ndriver = None\\nfor person, age in people:\\n    if age >= 18:\\n        driver = (person, age)\\n        break\\n        \\nif driver is None:\\n     raise DriverException('Driver not found.')\", \"# for.no.else.py\\nclass DriverException(Exception):\\n    pass\\npeople = [('James', 17), ('Kirk', 9), ('Lars', 13), ('Robert', 8)]\\ndriver = None\\nfor person, age in people:\\n    if age >= 18:\\n        driver = (person, age)\\n        break\\n\\nif driver is None:\\n   raise DriverException('Driver not found.')\", \"# for.else.py\\nclass DriverException(Exception):\\n     pass\\npeople = [('James', 17), ('Kirk', 9), ('Lars', 13), ('Robert', 8)]\\nfor person, age in people:\\n    if age >= 18:\\n         driver = (person, age)\\n         break\\nelse:\\n    raise DriverException('Driver not found.')\", \"# for.else.py\\nclass DriverException(Exception):\\n     pass\\npeople = [('James', 17), ('Kirk', 9), ('Lars', 13), ('Robert', 8)]\\nfor person, age in people:\\n    if age >= 18:\\n         driver = (person, age)\\n         break\\nelse:\\n     raise DriverException('Driver not found.')\", \"# for.else.py\\nclass DriverException(Exception):\\n     pass\\npeople = [('James', 17), ('Kirk', 9), ('Lars', 13), ('Robert', 8)]\\nfor person, age in people:\\n    if age >= 18:\\n         driver = (person, age)\\n         break\\nelse:\\n     raise DriverException('Driver not found.')\", '# menu.no.walrus.py\\nflavors = [\"pistachio\", \"malaga\", \"vanilla\", \"chocolate\", \"strawberry\"]\\nprompt = \"Choose your flavor: \"\\nprint(flavors)\\nwhile True:\\n    choice = input(prompt)\\n    if choice in flavors:\\n        break\\n    print(f\"Sorry, \\'{choice}\\' is not a valid option.\")\\nprint(f\"You chose \\'{choice}\\'.\")', '# menu.no.walrus.py\\nflavors = [\"pistachio\", \"malaga\", \"vanilla\", \"chocolate\", \"strawberry\"]\\nprompt = \"Choose your flavor: \"\\nprint(flavors)\\nwhile True:\\n    choice = input(prompt)\\n    if choice in flavors:\\n        break\\n    print(f\"Sorry, \\'{choice}\\' is not a valid option.\")\\nprint(f\"You chose \\'{choice}\\'.\")', '# primes.py\\nprimes = [] # this will contain the primes at the end\\nupto = 100 # the limit, inclusive\\nfor n in range(2, upto + 1):\\n    is_prime = True # flag, new at each iteration of outer for\\n    for divisor in range(2, n):\\n        if n % divisor == 0:\\n           is_prime = False\\n           break\\n    if is_prime: # check on flag\\n        primes.append(n)\\nprint(primes)', '*(switch.js, */)\\nswitch (day_number) {\\n    case 1:\\n    case 2:\\n    case 3:\\n    case 4:\\n    case 5:\\n        day = \"Weekday\";\\n        break;\\n    case 6:\\n        day = \"Saturday\";\\n        break;\\n    case 0:\\n        day = \"Sunday\";\\n        break;\\n    default:\\n        day = \"\";\\n        alert(day_number + \\' is not a valid day number.\\')\\n}', '#/* switch.js */\\nswitch (day_number) {\\n    case 1:\\n    case 2:\\n    case 3:\\n    case 4:\\n    case 5:\\n        day = \"Weekday\";\\n        break;\\n    case 6:\\n        day = \"Saturday\";\\n        break;\\n    case 0:\\n        day = \"Sunday\";\\n        break;\\n    default:\\n        day = \"\";\\n        alert(day_number + \\' is not a valid day number.\\')\\n}', '#/* switch.js */\\nswitch(day_number){\\n    case 1:\\n    case 2:\\n    case 3:\\n    case 4:\\n    case 5:\\n        day = \"Weekday\";\\n        break;\\n    case 6:\\n        day = \"Saturday\";\\n        break;\\n    case 0:\\n        day = \"Sunday\";\\n        break;\\n    default:\\n        day = \"\";\\n        alert(day_number + \\' is not a valid day number.\\')\\n}', \"# switch.py\\nif 1 <= day_number <= 5:\\n    day = 'Weekday'\\nelif day_number == 6:\\n    day = 'Saturday'\\nelif day_number == 0:\\n    day = 'Sunday'\\nelse:\\n    day = ''\\n    raise ValueError(\\n        str(day_number) + ' is not a valid day number.')\", \"# switch.py\\nday_number = True\\nif 1 <= day_number <= 5:\\n    day = 'Weekday'\\nelif day_number == 6:\\n    day = 'Saturday'\\nelif day_number == 0:\\n    day = 'Sunday'\\nelse:\\n    day = ''\\n    raise ValueError(\\n        str(day_number) + ' is not a valid day number.')\", \"# switch.py\\nday_number = True\\nif 1 <= day_number <= 5:\\n    day = 'Weekday'\\nelif day_number == 6:\\n    day = 'Saturday'\\nelif day_number == 0:\\n    day = 'Sunday'\\nelse:\\n    day = ''\\n    raise ValueError(\\n        str(day_number) + ' is not a valid day number.')\", '# switch.py\\nday_number = str(input(\"daynumber; \" ))\\nif 1 <= day_number <= 5:\\n    day = \\'Weekday\\'\\nelif day_number == 6:\\n    day = \\'Saturday\\'\\nelif day_number == 0:\\n    day = \\'Sunday\\'\\nelse:\\n    day = \\'\\'\\n    raise ValueError(\\n        str(day_number) + \\' is not a valid day number.\\')', \"# switch.py\\nif 1 <= day_number <= 5:\\n    day = 'Weekday'\\nelif day_number == 6:\\n    day = 'Saturday'\\nelif day_number == 0:\\n    day = 'Sunday'\\nelse:\\n    day = ''\\n    raise ValueError(\\n        str(day_number) + ' is not a valid day number.')\", \"# coupons.py\\ncustomers = [\\n    dict(id=1, total=200, coupon_code='F20'), # F20: fixed, £20\\n    dict(id=2, total=150, coupon_code='P30'), # P30: percent, 30%\\n    dict(id=3, total=100, coupon_code='P50'), # P50: percent, 50%\\n    dict(id=4, total=110, coupon_code='F15'), # F15: fixed, £15\\n]\\nfor customer in customers:\\n    code = customer['coupon_code']\\n    if code == 'F20':\\n        customer['discount'] = 20.0\\n    elif code == 'F15':\\n        customer['discount'] = 15.0\\n    elif code == 'P30':\\n        customer['discount'] = customer['total'] * 0.3\\n    elif code == 'P50':\\n        customer['discount'] = customer['total'] * 0.5\\n    else:\\n        customer['discount'] = 0.0\\nfor customer in customers:\\n    print(customer['id'], customer['total'], customer['discount'])\", \"# infinite.py\\nfrom itertools import count\\nfor n in count(5, 3):\\n    if n > 20:\\n        break\\n    print(n, end=', ') # instead of newline, comma and space\", '# compress.py\\nfrom itertools import compress\\ndata = range(10)\\neven_selector = [1, 0] * 10\\nodd_selector = [0, 1] * 10\\neven_numbers = list(compress(data, even_selector))\\nodd_numbers = list(compress(data, odd_selector))\\nprint(odd_selector)\\nprint(list(data))\\nprint(even_numbers)\\nprint(odd_numbers)', \"# permutations.py\\nfrom itertools import permutations\\nprint(list(permutations('ABC')))\", '# data.science.example.py\\ndef do_report(data_source):\\n    # fetch and prepare data\\n    data = fetch_data(data_source)\\n    parsed_data = parse_data(data)\\n    filtered_data = filter_data(parsed_data)\\n    polished_data = polish_data(filtered_data)\\n    # run algorithms on data\\n    final_data = analyse(polished_data)\\n    # create and return report\\n    report = Report(final_data)\\n    return report', '# data.science.example.py\\ndef do_report(data_source):\\n    # fetch and prepare data\\n    data = fetch_data(data_source)\\n    parsed_data = parse_data(data)\\n    filtered_data = filter_data(parsed_data)\\n    polished_data = polish_data(filtered_data)\\n    # run algorithms on data\\n    final_data = analyse(polished_data)\\n    # create and return report\\n    report = Report(final_data)\\n    return report', '# data.science.example.py\\ndef do_report(data_source):\\n    # fetch and prepare data\\n    data = fetch_data(data_source)\\n    parsed_data = parse_data(data)\\n    filtered_data = filter_data(parsed_data)\\n    polished_data = polish_data(filtered_data)\\n    # run algorithms on data\\n    final_data = analyse(polished_data)\\n    # create and return report\\n    report = Report(final_data)\\n    return report', '# data.science.example.py\\ndef do_report(data_source):\\n    # fetch and prepare data\\n    data = fetch_data(data_source)\\n    parsed_data = parse_data(data)\\n    filtered_data = filter_data(parsed_data)\\n    polished_data = polish_data(filtered_data)\\n    # run algorithms on data\\n    final_data = analyse(polished_data)\\n    # create and return report\\n    report = Report(final_data)\\n    return report', '# matrix.multiplication.nofunc.py\\na = [[1, 2], [3, 4]]\\nb = [[5, 1], [2, 1]]\\nc = [[sum(i * j for i, j in zip(r, c)) for c in zip(*b)]\\nfor r in a]', '# matrix.multiplication.nofunc.py\\na = [[1, 2], [3, 4]]\\nb = [[5, 1], [2, 1]]\\nc = [[sum(i * j for i, j in zip(r, c)) for c in zip(*b)]\\nfor r in a]\\nprint(c)', \"# scoping.level.2.py\\ndef outer():\\n    test = 1 # outer scope\\n    def inner():\\n        test = 2 # inner scope\\n        print('inner:', test)\\n    inner()\\n        print('outer:', test)\\n\\ntest = 0 # global scope\\nouter()\\nprint('global:', test)\", \"# scoping.level.2.py\\ndef outer():\\n    test = 1 # outer scope\\n    def inner():\\n        test = 2 # inner scope\\n        print('inner:', test)\\n    inner()\\n    print('outer:', test)\\n\\ntest = 0 # global scope\\nouter()\\nprint('global:', test)\", '# key.points.argument.passing.py\\nx = 3\\ndef func(y):\\n    print(y)\\nfunc(x) # prints: 3', \"# key.points.mutable.py\\nx = [1, 2, 3]\\ndef func(x):\\n  x[1] = 42 # this affects the 'x' argument!\\nfunc(x)\\nprint(x) # prints: [1, 42, 3]\", \"# arguments.combined.py\\ndef func(a, b, c, d, e, f):\\nprint(a, b, c, d, e, f)\\nfunc(1, *(2, 3), f=6, *(4, 5))\\nfunc(*(1, 2), e=5, *(3, 4), f=6)\\nfunc(1, **{'b': 2, 'c': 3}, d=4, **{'e': 5, 'f': 6})\\nfunc(c=3, *(1, 2), **{'d': 4}, e=5, **{'f': 6})\", \"# arguments.combined.py\\ndef func(a, b, c, d, e, f):\\n     print(a, b, c, d, e, f)\\nfunc(1, *(2, 3), f=6, *(4, 5))\\nfunc(*(1, 2), e=5, *(3, 4), f=6)\\nfunc(1, **{'b': 2, 'c': 3}, d=4, **{'e': 5, 'f': 6})\\nfunc(c=3, *(1, 2), **{'d': 4}, e=5, **{'f': 6})\", \"# arguments.combined.py\\ndef func(a, b, c, d, e, f):\\n    print(a, b, c, d, e, f)\\nfunc(1, *(2, 3), f=6, *(4, 5))\\nfunc(*(1, 2), e=5, *(3, 4), f=6)\\nfunc(1, **{'b': 2, 'c': 3}, d=4, **{'e': 5, 'f': 6})\\nfunc(c=3, *(1, 2), **{'d': 4}, e=5, **{'f': 6})\", '# return.single.value.py\\ndef factorial(n):\\n    if n in (0, 1):\\n       return 1\\n    result = n\\n    for k in range(2, n):\\n          result *= k\\n    return result\\nf5 = factorial(5) # f5 = 120', '# return.single.value.py\\ndef factorial(n):\\n    if n in (0, 1):\\n       return 1\\n    result = n\\n    for k in range(2, n):\\n          result *= k\\n    return result\\nf5 = factorial(5) # f5 = 120', '# return.single.value.py\\ndef factorial(n):\\n    if n in (0, 1):\\n       return 1\\n    result = n\\n    for k in range(2, n):\\n          result *= k\\n    return result\\nf5 = factorial(5) # f5 = 120\\nprint(f5)', '# func.attributes.py\\ndef multiplication(a, b=1):\\n    \"\"\"Return a multiplied by b. \"\"\"\\n    return a * b\\nif __name__ == \"__main__\":\\n    special_attributes = [\\n        \"__doc__\", \"__name__\", \"__qualname__\", \"__module__\",\\n        \"__defaults__\", \"__code__\", \"__globals__\", \"__dict__\",\\n        \"__closure__\", \"__annotations__\", \"__kwdefaults__\",\\n]\\n    for attribute in special_attributes:\\n        print(attribute, \\'->\\', getattr(multiplication, attribute))'], 'Out': {}, 'get_ipython': <bound method InteractiveShell.get_ipython of <google.colab._shell.Shell object at 0x7d64d6176080>>, 'exit': <IPython.core.autocall.ZMQExitAutocall object at 0x7d64d6176620>, 'quit': <IPython.core.autocall.ZMQExitAutocall object at 0x7d64d6176620>, '_': '', '__': '', '___': '', '_i': '# return.single.value.py\\ndef factorial(n):\\n    if n in (0, 1):\\n       return 1\\n    result = n\\n    for k in range(2, n):\\n          result *= k\\n    return result\\nf5 = factorial(5) # f5 = 120\\nprint(f5)', '_ii': '# return.single.value.py\\ndef factorial(n):\\n    if n in (0, 1):\\n       return 1\\n    result = n\\n    for k in range(2, n):\\n          result *= k\\n    return result\\nf5 = factorial(5) # f5 = 120', '_iii': '# return.single.value.py\\ndef factorial(n):\\n    if n in (0, 1):\\n       return 1\\n    result = n\\n    for k in range(2, n):\\n          result *= k\\n    return result\\nf5 = factorial(5) # f5 = 120', '_i1': '# any.py\\nitems = [0, None, 0.0, True, 0, 7] # True and 7 evaluate to True\\nfound = False # this is called \"flag\"\\nfor item in items:\\n    print(\\'scanning item\\', item)\\n    if item:\\n        found = True # we update the flag\\n        break\\nif found: # we inspect the flag\\n    print(\\'At least one item evaluates to True\\')\\nelse:\\n    print(\\'All items evaluate to False\\')', 'items': [0, None, 0.0, True, 0, 7], 'found': True, 'item': True, '_i2': \"# for.no.else.py\\nclass DriverException(Exception):\\n    pass\\npeople = [('James', 17), ('Kirk', 9), ('Lars', 13), ('Robert', 8)]\\ndriver = None\\nfor person, age in people:\\n    if age >= 18:\\n        driver = (person, age)\\n        break\\nif driver is None:\\n    raise DriverException('Driver not found.')\", 'DriverException': <class '__main__.DriverException'>, 'people': [('James', 17), ('Kirk', 9), ('Lars', 13), ('Robert', 8)], 'driver': None, 'person': 'Robert', 'age': 8, '_i3': \"# for.no.else.py\\nclass DriverException(Exception):\\n    pass\\npeople = [('James', 17), ('Kirk', 9), ('Lars', 13), ('Robert', 8)]\\ndriver = None\\nfor person, age in people:\\n    if age >= 18:\\n        driver = (person, age)\\n        break\\nif driver is None:\\n     raise DriverException('Driver not found.')\", '_i4': \"# for.no.else.py\\nclass DriverException(Exception):\\n    pass\\npeople = [('James', 17), ('Kirk', 9), ('Lars', 13), ('Robert', 8)]\\ndriver = None\\nfor person, age in people:\\n    if age >= 18:\\n        driver = (person, age)\\n        break\\n        \\nif driver is None:\\n     raise DriverException('Driver not found.')\", '_i5': \"# for.no.else.py\\nclass DriverException(Exception):\\n    pass\\npeople = [('James', 17), ('Kirk', 9), ('Lars', 13), ('Robert', 8)]\\ndriver = None\\nfor person, age in people:\\n    if age >= 18:\\n        driver = (person, age)\\n        break\\n\\nif driver is None:\\n   raise DriverException('Driver not found.')\", '_i6': \"# for.else.py\\nclass DriverException(Exception):\\n     pass\\npeople = [('James', 17), ('Kirk', 9), ('Lars', 13), ('Robert', 8)]\\nfor person, age in people:\\n    if age >= 18:\\n         driver = (person, age)\\n         break\\nelse:\\n    raise DriverException('Driver not found.')\", '_i7': \"# for.else.py\\nclass DriverException(Exception):\\n     pass\\npeople = [('James', 17), ('Kirk', 9), ('Lars', 13), ('Robert', 8)]\\nfor person, age in people:\\n    if age >= 18:\\n         driver = (person, age)\\n         break\\nelse:\\n     raise DriverException('Driver not found.')\", '_i8': \"# for.else.py\\nclass DriverException(Exception):\\n     pass\\npeople = [('James', 17), ('Kirk', 9), ('Lars', 13), ('Robert', 8)]\\nfor person, age in people:\\n    if age >= 18:\\n         driver = (person, age)\\n         break\\nelse:\\n     raise DriverException('Driver not found.')\", '_i9': '# menu.no.walrus.py\\nflavors = [\"pistachio\", \"malaga\", \"vanilla\", \"chocolate\", \"strawberry\"]\\nprompt = \"Choose your flavor: \"\\nprint(flavors)\\nwhile True:\\n    choice = input(prompt)\\n    if choice in flavors:\\n        break\\n    print(f\"Sorry, \\'{choice}\\' is not a valid option.\")\\nprint(f\"You chose \\'{choice}\\'.\")', 'flavors': ['pistachio', 'malaga', 'vanilla', 'chocolate', 'strawberry'], 'prompt': 'Choose your flavor: ', 'choice': 'chocolate', '_i10': '# menu.no.walrus.py\\nflavors = [\"pistachio\", \"malaga\", \"vanilla\", \"chocolate\", \"strawberry\"]\\nprompt = \"Choose your flavor: \"\\nprint(flavors)\\nwhile True:\\n    choice = input(prompt)\\n    if choice in flavors:\\n        break\\n    print(f\"Sorry, \\'{choice}\\' is not a valid option.\")\\nprint(f\"You chose \\'{choice}\\'.\")', '_i11': '# primes.py\\nprimes = [] # this will contain the primes at the end\\nupto = 100 # the limit, inclusive\\nfor n in range(2, upto + 1):\\n    is_prime = True # flag, new at each iteration of outer for\\n    for divisor in range(2, n):\\n        if n % divisor == 0:\\n           is_prime = False\\n           break\\n    if is_prime: # check on flag\\n        primes.append(n)\\nprint(primes)', 'primes': [2, 3, 5, 7, 11, 13, 17, 19, 23, 29, 31, 37, 41, 43, 47, 53, 59, 61, 67, 71, 73, 79, 83, 89, 97], 'upto': 100, 'n': 23, 'is_prime': False, 'divisor': 2, '_i12': '/* switch.js */\\nswitch (day_number) {\\n    case 1:\\n    case 2:\\n    case 3:\\n    case 4:\\n    case 5:\\n        day = \"Weekday\";\\n        break;\\n    case 6:\\n        day = \"Saturday\";\\n        break;\\n    case 0:\\n        day = \"Sunday\";\\n        break;\\n    default:\\n        day = \"\";\\n        alert(day_number + \\' is not a valid day number.\\')\\n}', '_i13': '#/* switch.js */\\nswitch (day_number) {\\n    case 1:\\n    case 2:\\n    case 3:\\n    case 4:\\n    case 5:\\n        day = \"Weekday\";\\n        break;\\n    case 6:\\n        day = \"Saturday\";\\n        break;\\n    case 0:\\n        day = \"Sunday\";\\n        break;\\n    default:\\n        day = \"\";\\n        alert(day_number + \\' is not a valid day number.\\')\\n}', '_i14': '#/* switch.js */\\nswitch(day_number){\\n    case 1:\\n    case 2:\\n    case 3:\\n    case 4:\\n    case 5:\\n        day = \"Weekday\";\\n        break;\\n    case 6:\\n        day = \"Saturday\";\\n        break;\\n    case 0:\\n        day = \"Sunday\";\\n        break;\\n    default:\\n        day = \"\";\\n        alert(day_number + \\' is not a valid day number.\\')\\n}', '_i15': \"# switch.py\\nif 1 <= day_number <= 5:\\n    day = 'Weekday'\\nelif day_number == 6:\\n    day = 'Saturday'\\nelif day_number == 0:\\n    day = 'Sunday'\\nelse:\\n    day = ''\\n    raise ValueError(\\n        str(day_number) + ' is not a valid day number.')\", '_i16': \"# switch.py\\nday_number = True\\nif 1 <= day_number <= 5:\\n    day = 'Weekday'\\nelif day_number == 6:\\n    day = 'Saturday'\\nelif day_number == 0:\\n    day = 'Sunday'\\nelse:\\n    day = ''\\n    raise ValueError(\\n        str(day_number) + ' is not a valid day number.')\", 'day_number': 'weekday', 'day': 'Weekday', '_i17': \"# switch.py\\nday_number = True\\nif 1 <= day_number <= 5:\\n    day = 'Weekday'\\nelif day_number == 6:\\n    day = 'Saturday'\\nelif day_number == 0:\\n    day = 'Sunday'\\nelse:\\n    day = ''\\n    raise ValueError(\\n        str(day_number) + ' is not a valid day number.')\", '_i18': '# switch.py\\nday_number = str(input(\"daynumber; \" ))\\nif 1 <= day_number <= 5:\\n    day = \\'Weekday\\'\\nelif day_number == 6:\\n    day = \\'Saturday\\'\\nelif day_number == 0:\\n    day = \\'Sunday\\'\\nelse:\\n    day = \\'\\'\\n    raise ValueError(\\n        str(day_number) + \\' is not a valid day number.\\')', '_i19': \"# switch.py\\nif 1 <= day_number <= 5:\\n    day = 'Weekday'\\nelif day_number == 6:\\n    day = 'Saturday'\\nelif day_number == 0:\\n    day = 'Sunday'\\nelse:\\n    day = ''\\n    raise ValueError(\\n        str(day_number) + ' is not a valid day number.')\", '_i20': \"# coupons.py\\ncustomers = [\\n    dict(id=1, total=200, coupon_code='F20'), # F20: fixed, £20\\n    dict(id=2, total=150, coupon_code='P30'), # P30: percent, 30%\\n    dict(id=3, total=100, coupon_code='P50'), # P50: percent, 50%\\n    dict(id=4, total=110, coupon_code='F15'), # F15: fixed, £15\\n]\\nfor customer in customers:\\n    code = customer['coupon_code']\\n    if code == 'F20':\\n        customer['discount'] = 20.0\\n    elif code == 'F15':\\n        customer['discount'] = 15.0\\n    elif code == 'P30':\\n        customer['discount'] = customer['total'] * 0.3\\n    elif code == 'P50':\\n        customer['discount'] = customer['total'] * 0.5\\n    else:\\n        customer['discount'] = 0.0\\nfor customer in customers:\\n    print(customer['id'], customer['total'], customer['discount'])\", 'customers': [{'id': 1, 'total': 200, 'coupon_code': 'F20', 'discount': 20.0}, {'id': 2, 'total': 150, 'coupon_code': 'P30', 'discount': 45.0}, {'id': 3, 'total': 100, 'coupon_code': 'P50', 'discount': 50.0}, {'id': 4, 'total': 110, 'coupon_code': 'F15', 'discount': 15.0}], 'customer': {'id': 4, 'total': 110, 'coupon_code': 'F15', 'discount': 15.0}, 'code': 'F15', '_i21': \"# infinite.py\\nfrom itertools import count\\nfor n in count(5, 3):\\n    if n > 20:\\n        break\\n    print(n, end=', ') # instead of newline, comma and space\", 'count': <class 'itertools.count'>, '_i22': '# compress.py\\nfrom itertools import compress\\ndata = range(10)\\neven_selector = [1, 0] * 10\\nodd_selector = [0, 1] * 10\\neven_numbers = list(compress(data, even_selector))\\nodd_numbers = list(compress(data, odd_selector))\\nprint(odd_selector)\\nprint(list(data))\\nprint(even_numbers)\\nprint(odd_numbers)', 'compress': <class 'itertools.compress'>, 'data': range(0, 10), 'even_selector': [1, 0, 1, 0, 1, 0, 1, 0, 1, 0, 1, 0, 1, 0, 1, 0, 1, 0, 1, 0], 'odd_selector': [0, 1, 0, 1, 0, 1, 0, 1, 0, 1, 0, 1, 0, 1, 0, 1, 0, 1, 0, 1], 'even_numbers': [0, 2, 4, 6, 8], 'odd_numbers': [1, 3, 5, 7, 9], '_i23': \"# permutations.py\\nfrom itertools import permutations\\nprint(list(permutations('ABC')))\", 'permutations': <class 'itertools.permutations'>, '_i24': '# data.science.example.py\\ndef do_report(data_source):\\n    # fetch and prepare data\\n    data = fetch_data(data_source)\\n    parsed_data = parse_data(data)\\n    filtered_data = filter_data(parsed_data)\\n    polished_data = polish_data(filtered_data)\\n    # run algorithms on data\\n    final_data = analyse(polished_data)\\n    # create and return report\\n    report = Report(final_data)\\n    return report', 'do_report': <function do_report at 0x7d64b47c8a60>, '_i25': '# data.science.example.py\\ndef do_report(data_source):\\n    # fetch and prepare data\\n    data = fetch_data(data_source)\\n    parsed_data = parse_data(data)\\n    filtered_data = filter_data(parsed_data)\\n    polished_data = polish_data(filtered_data)\\n    # run algorithms on data\\n    final_data = analyse(polished_data)\\n    # create and return report\\n    report = Report(final_data)\\n    return report', '_i26': '# data.science.example.py\\ndef do_report(data_source):\\n    # fetch and prepare data\\n    data = fetch_data(data_source)\\n    parsed_data = parse_data(data)\\n    filtered_data = filter_data(parsed_data)\\n    polished_data = polish_data(filtered_data)\\n    # run algorithms on data\\n    final_data = analyse(polished_data)\\n    # create and return report\\n    report = Report(final_data)\\n    return report', '_i27': '# data.science.example.py\\ndef do_report(data_source):\\n    # fetch and prepare data\\n    data = fetch_data(data_source)\\n    parsed_data = parse_data(data)\\n    filtered_data = filter_data(parsed_data)\\n    polished_data = polish_data(filtered_data)\\n    # run algorithms on data\\n    final_data = analyse(polished_data)\\n    # create and return report\\n    report = Report(final_data)\\n    return report', '_i28': '# matrix.multiplication.nofunc.py\\na = [[1, 2], [3, 4]]\\nb = [[5, 1], [2, 1]]\\nc = [[sum(i * j for i, j in zip(r, c)) for c in zip(*b)]\\nfor r in a]', 'a': [[1, 2], [3, 4]], 'b': [[5, 1], [2, 1]], 'c': [[9, 3], [23, 7]], '_i29': '# matrix.multiplication.nofunc.py\\na = [[1, 2], [3, 4]]\\nb = [[5, 1], [2, 1]]\\nc = [[sum(i * j for i, j in zip(r, c)) for c in zip(*b)]\\nfor r in a]\\nprint(c)', '_i30': \"# scoping.level.2.py\\ndef outer():\\n    test = 1 # outer scope\\n    def inner():\\n        test = 2 # inner scope\\n        print('inner:', test)\\n    inner()\\n        print('outer:', test)\\n\\ntest = 0 # global scope\\nouter()\\nprint('global:', test)\", '_i31': \"# scoping.level.2.py\\ndef outer():\\n    test = 1 # outer scope\\n    def inner():\\n        test = 2 # inner scope\\n        print('inner:', test)\\n    inner()\\n    print('outer:', test)\\n\\ntest = 0 # global scope\\nouter()\\nprint('global:', test)\", 'outer': <function outer at 0x7d64b4767eb0>, 'test': 0, '_i32': '# key.points.argument.passing.py\\nx = 3\\ndef func(y):\\n    print(y)\\nfunc(x) # prints: 3', 'x': [1, 42, 3], 'func': <function func at 0x7d64c5cfe8c0>, '_i33': \"# key.points.mutable.py\\nx = [1, 2, 3]\\ndef func(x):\\n  x[1] = 42 # this affects the 'x' argument!\\nfunc(x)\\nprint(x) # prints: [1, 42, 3]\", '_i34': \"# arguments.combined.py\\ndef func(a, b, c, d, e, f):\\nprint(a, b, c, d, e, f)\\nfunc(1, *(2, 3), f=6, *(4, 5))\\nfunc(*(1, 2), e=5, *(3, 4), f=6)\\nfunc(1, **{'b': 2, 'c': 3}, d=4, **{'e': 5, 'f': 6})\\nfunc(c=3, *(1, 2), **{'d': 4}, e=5, **{'f': 6})\", '_i35': \"# arguments.combined.py\\ndef func(a, b, c, d, e, f):\\n     print(a, b, c, d, e, f)\\nfunc(1, *(2, 3), f=6, *(4, 5))\\nfunc(*(1, 2), e=5, *(3, 4), f=6)\\nfunc(1, **{'b': 2, 'c': 3}, d=4, **{'e': 5, 'f': 6})\\nfunc(c=3, *(1, 2), **{'d': 4}, e=5, **{'f': 6})\", '_i36': \"# arguments.combined.py\\ndef func(a, b, c, d, e, f):\\n    print(a, b, c, d, e, f)\\nfunc(1, *(2, 3), f=6, *(4, 5))\\nfunc(*(1, 2), e=5, *(3, 4), f=6)\\nfunc(1, **{'b': 2, 'c': 3}, d=4, **{'e': 5, 'f': 6})\\nfunc(c=3, *(1, 2), **{'d': 4}, e=5, **{'f': 6})\", '_i37': '# return.single.value.py\\ndef factorial(n):\\n    if n in (0, 1):\\n       return 1\\n    result = n\\n    for k in range(2, n):\\n          result *= k\\n    return result\\nf5 = factorial(5) # f5 = 120', 'factorial': <function factorial at 0x7d64b47cad40>, 'f5': 120, '_i38': '# return.single.value.py\\ndef factorial(n):\\n    if n in (0, 1):\\n       return 1\\n    result = n\\n    for k in range(2, n):\\n          result *= k\\n    return result\\nf5 = factorial(5) # f5 = 120', '_i39': '# return.single.value.py\\ndef factorial(n):\\n    if n in (0, 1):\\n       return 1\\n    result = n\\n    for k in range(2, n):\\n          result *= k\\n    return result\\nf5 = factorial(5) # f5 = 120\\nprint(f5)', '_i40': '# func.attributes.py\\ndef multiplication(a, b=1):\\n    \"\"\"Return a multiplied by b. \"\"\"\\n    return a * b\\nif __name__ == \"__main__\":\\n    special_attributes = [\\n        \"__doc__\", \"__name__\", \"__qualname__\", \"__module__\",\\n        \"__defaults__\", \"__code__\", \"__globals__\", \"__dict__\",\\n        \"__closure__\", \"__annotations__\", \"__kwdefaults__\",\\n]\\n    for attribute in special_attributes:\\n        print(attribute, \\'->\\', getattr(multiplication, attribute))', 'multiplication': <function multiplication at 0x7d64b47ca710>, 'special_attributes': ['__doc__', '__name__', '__qualname__', '__module__', '__defaults__', '__code__', '__globals__', '__dict__', '__closure__', '__annotations__', '__kwdefaults__'], 'attribute': '__globals__'}\n",
            "__dict__ -> {}\n",
            "__closure__ -> None\n",
            "__annotations__ -> {}\n",
            "__kwdefaults__ -> None\n"
          ]
        }
      ]
    },
    {
      "cell_type": "markdown",
      "source": [
        "Ejercicio 26"
      ],
      "metadata": {
        "id": "UjJmemqpXxxj"
      }
    },
    {
      "cell_type": "code",
      "source": [
        "# json_examples/json_basic.py\n",
        "import json\n",
        "info = {\n",
        "    'full_name': 'Sherlock Holmes',\n",
        "    'address': {\n",
        "            'street': '221B Baker St',\n",
        "            'zip': 'NW1 6XE',\n",
        "            'city': 'London',\n",
        "            'country': 'UK',\n",
        "      }\n",
        "}\n",
        "print(json.dumps(info, indent=2, sort_keys=True))#se imprime lo de adentro de info"
      ],
      "metadata": {
        "colab": {
          "base_uri": "https://localhost:8080/"
        },
        "id": "t6MrZ4b6X0GU",
        "outputId": "0d98b4b9-a768-466d-b0c3-bf4b1ba4e20a"
      },
      "execution_count": 1,
      "outputs": [
        {
          "output_type": "stream",
          "name": "stdout",
          "text": [
            "{\n",
            "  \"address\": {\n",
            "    \"city\": \"London\",\n",
            "    \"country\": \"UK\",\n",
            "    \"street\": \"221B Baker St\",\n",
            "    \"zip\": \"NW1 6XE\"\n",
            "  },\n",
            "  \"full_name\": \"Sherlock Holmes\"\n",
            "}\n"
          ]
        }
      ]
    },
    {
      "cell_type": "markdown",
      "source": [
        "Ejercicio 27"
      ],
      "metadata": {
        "id": "31vc7LiiZK5f"
      }
    },
    {
      "cell_type": "code",
      "source": [
        "# json_examples/json_cplx.py\n",
        "import json\n",
        "class ComplexEncoder(json.JSONEncoder):\n",
        "    def default(self, obj):\n",
        "        print(f\"ComplexEncoder.default: {obj=}\")\n",
        "        if isinstance(obj, complex):\n",
        "            return {\n",
        "                '_meta': '_complex',\n",
        "                'num': [obj.real, obj.imag],\n",
        "            }\n",
        "        return super().default(obj)\n",
        "\n",
        "data = {\n",
        "      'an_int': 42,\n",
        "      'a_float': 3.14159265,\n",
        "      'a_complex': 3 + 4j,\n",
        "}\n",
        "json_data = json.dumps(data, cls=ComplexEncoder)\n",
        "print(json_data)\n",
        "\n",
        "def object_hook(obj):\n",
        "    print(f\"object_hook: {obj=}\")\n",
        "    try:\n",
        "       if obj['_meta'] == '_complex':\n",
        "           return complex(*obj['num'])\n",
        "    except KeyError:\n",
        "       return obj\n",
        "data_out = json.loads(json_data, object_hook=object_hook)\n",
        "print(data_out)"
      ],
      "metadata": {
        "colab": {
          "base_uri": "https://localhost:8080/"
        },
        "id": "lBOM-heyZNPt",
        "outputId": "254cc543-3f0a-4613-d873-43598051a747"
      },
      "execution_count": 2,
      "outputs": [
        {
          "output_type": "stream",
          "name": "stdout",
          "text": [
            "ComplexEncoder.default: obj=(3+4j)\n",
            "{\"an_int\": 42, \"a_float\": 3.14159265, \"a_complex\": {\"_meta\": \"_complex\", \"num\": [3.0, 4.0]}}\n",
            "object_hook: obj={'_meta': '_complex', 'num': [3.0, 4.0]}\n",
            "object_hook: obj={'an_int': 42, 'a_float': 3.14159265, 'a_complex': (3+4j)}\n",
            "{'an_int': 42, 'a_float': 3.14159265, 'a_complex': (3+4j)}\n"
          ]
        }
      ]
    }
  ]
}