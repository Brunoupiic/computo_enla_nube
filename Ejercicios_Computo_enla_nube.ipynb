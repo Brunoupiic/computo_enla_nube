{
  "nbformat": 4,
  "nbformat_minor": 0,
  "metadata": {
    "colab": {
      "provenance": [],
      "authorship_tag": "ABX9TyPZqnVqwLD/wLlJ51DIIDrA",
      "include_colab_link": true
    },
    "kernelspec": {
      "name": "python3",
      "display_name": "Python 3"
    },
    "language_info": {
      "name": "python"
    }
  },
  "cells": [
    {
      "cell_type": "markdown",
      "metadata": {
        "id": "view-in-github",
        "colab_type": "text"
      },
      "source": [
        "<a href=\"https://colab.research.google.com/github/Brunoupiic/computo_enla_nube/blob/main/Ejercicios_Computo_enla_nube.ipynb\" target=\"_parent\"><img src=\"https://colab.research.google.com/assets/colab-badge.svg\" alt=\"Open In Colab\"/></a>"
      ]
    },
    {
      "cell_type": "markdown",
      "source": [
        "Nombre: Bruno Zinedin Romero Rodriguez\n",
        "Curso: Computo en la nube\n",
        "Fecha: 17 de septiembre del 2023"
      ],
      "metadata": {
        "id": "hWA5UXoZ-tzH"
      }
    },
    {
      "cell_type": "markdown",
      "source": [
        " Ejercicio 1- Scopes"
      ],
      "metadata": {
        "id": "z93rW7jf6h5N"
      }
    },
    {
      "cell_type": "code",
      "execution_count": null,
      "metadata": {
        "id": "7tNa4VqG6K72"
      },
      "outputs": [],
      "source": [
        "# scopes1.py\n",
        "# definimos una funcion llamada local\n",
        "def local():\n",
        "    m = 7\n",
        "    print(m)\n",
        "#definimos m como variable\n",
        "m = 5\n",
        "#ejecutamos la funcion\n",
        "local()\n",
        "print(m)"
      ]
    },
    {
      "cell_type": "code",
      "source": [
        "# scopes2.py\n",
        "#funcion local\n",
        "def local():\n",
        "# m no esta definida desde la funcion local\n",
        "\n",
        "# m es encontrada en el ambito global\n",
        "    print(m, 'imprimir desde la funcion local')\n",
        "m = 5\n",
        "print(m, 'imprimir desde la funcion local')\n",
        "local()"
      ],
      "metadata": {
        "colab": {
          "base_uri": "https://localhost:8080/"
        },
        "id": "bxrPwvEG60hJ",
        "outputId": "a9caa347-de39-411a-a6a2-14bef69a7e59"
      },
      "execution_count": 4,
      "outputs": [
        {
          "output_type": "stream",
          "name": "stdout",
          "text": [
            "5 printing from the global scope\n",
            "5 printing from the local scope\n"
          ]
        }
      ]
    },
    {
      "cell_type": "code",
      "source": [
        "# scopes3.py\n",
        "# Local, Enclosing and Global\n",
        "def enclosing_func():\n",
        "    m = 13\n",
        "    def local():\n",
        "# m no esta definida desde la funcion local\n",
        "        print(m, 'imprimir desde la funcion local')\n",
        "#llamando a la funcion local\n",
        "    local()\n",
        "m = 5\n",
        "print(m, 'imprimir desde la funcion local')\n",
        "enclosing_func()"
      ],
      "metadata": {
        "colab": {
          "base_uri": "https://localhost:8080/"
        },
        "id": "6PQeoMuX7Ul-",
        "outputId": "d0af8d1c-61bb-477a-dd30-2adbb462f301"
      },
      "execution_count": 5,
      "outputs": [
        {
          "output_type": "stream",
          "name": "stdout",
          "text": [
            "5 printing from the global scope\n",
            "13 printing from the local scope\n"
          ]
        }
      ]
    },
    {
      "cell_type": "markdown",
      "source": [
        "Ejercicio 2- Clases"
      ],
      "metadata": {
        "id": "kSgX-4K37y9s"
      }
    },
    {
      "cell_type": "code",
      "source": [
        "# bike.py\n",
        "# creamos la clase bike\n",
        "class Bike:\n",
        "     def __init__(self, colour, frame_material):\n",
        "        self.colour = colour\n",
        "        self.frame_material = frame_material\n",
        "     def brake(self):\n",
        "        print(\"Frenado!\")\n",
        "#creamos par de instancias\n",
        "red_bike = Bike('Rojo', 'Fibra de Carbon')\n",
        "blue_bike = Bike('Azul', 'Acero')\n",
        "# objetos que tenemos\n",
        "print(red_bike.colour) # imprime: Rojo\n",
        "print(red_bike.frame_material) # imprime: fibra de carbono\n",
        "print(blue_bike.colour) # prints: Azul\n",
        "print(blue_bike.frame_material) # imprime: Acero\n",
        "# creamos el frenado\n",
        "red_bike.brake() # prints: Frenado!"
      ],
      "metadata": {
        "colab": {
          "base_uri": "https://localhost:8080/"
        },
        "id": "ku-KXfJm71zN",
        "outputId": "6e8752d9-886b-4698-ffe8-fbeec05a9df7"
      },
      "execution_count": 7,
      "outputs": [
        {
          "output_type": "stream",
          "name": "stdout",
          "text": [
            "Rojo\n",
            "Fibra de Carbon\n",
            "Azul\n",
            "Acero\n",
            "Frenado!\n"
          ]
        }
      ]
    },
    {
      "cell_type": "code",
      "source": [
        "age = 42\n",
        "id(age)\n",
        "\n"
      ],
      "metadata": {
        "colab": {
          "base_uri": "https://localhost:8080/"
        },
        "id": "YAICYKAk8kMC",
        "outputId": "3ffd607c-7569-4217-c8a9-04b1a5904aa3"
      },
      "execution_count": 10,
      "outputs": [
        {
          "output_type": "execute_result",
          "data": {
            "text/plain": [
              "134210796553744"
            ]
          },
          "metadata": {},
          "execution_count": 10
        }
      ]
    },
    {
      "cell_type": "code",
      "source": [
        "class Person:\n",
        "     def __init__(self, age):\n",
        "         self.age = age\n",
        "\n",
        "fab = Person(age=42)\n",
        "print(fab.age)#imprime 42\n",
        "\n",
        "print(id(fab))#nuevo id\n",
        "\n",
        "print(id(fab.age))#nuevo id\n",
        "\n",
        "fab.age = 25\n",
        "print(id(fab)) #nuevo id para edad nueva 25\n",
        "\n",
        "print(id(fab.age)) #nuevo id para edad nueva 25\n"
      ],
      "metadata": {
        "colab": {
          "base_uri": "https://localhost:8080/"
        },
        "id": "idMGtfRu9LQS",
        "outputId": "3b400396-04e1-4851-80bd-d29a764885a4"
      },
      "execution_count": 15,
      "outputs": [
        {
          "output_type": "stream",
          "name": "stdout",
          "text": [
            "42\n",
            "134210368476960\n",
            "134210796553744\n",
            "134210368476960\n",
            "134210796553200\n"
          ]
        }
      ]
    },
    {
      "cell_type": "markdown",
      "source": [
        "Ejercicio 3- Numeros Complejos"
      ],
      "metadata": {
        "id": "z_ADxLtA-xT1"
      }
    },
    {
      "cell_type": "code",
      "source": [
        "c = 3.14 + 2.73j\n",
        "c = complex(3.14, 2.73)\n",
        "c = 3.14 + 2.73j\n",
        "\n",
        "print(c.real)\n",
        "print(c.imag) # parte imaginaria\n",
        "\n",
        "print(c.conjugate()) # conjugado de A + Bj es A - Bj\n",
        "\n",
        "print(c * 2) # multiplicacion\n",
        "\n",
        "print(c ** 2) #  multiplicacion doble\n",
        "#(2.4067000000000007+17.1444j)\n",
        "d = 1 + 1j # suma y resta\n",
        "print(c - d)\n",
        "#(2.14+1.73j)"
      ],
      "metadata": {
        "colab": {
          "base_uri": "https://localhost:8080/"
        },
        "id": "F-vhT9Tq-02v",
        "outputId": "2336f18b-baed-4fb7-a7e8-19dfdf3f4667"
      },
      "execution_count": 18,
      "outputs": [
        {
          "output_type": "stream",
          "name": "stdout",
          "text": [
            "3.14\n",
            "2.73\n",
            "(3.14-2.73j)\n",
            "(6.28+5.46j)\n",
            "(2.4067000000000007+17.1444j)\n",
            "(2.14+1.73j)\n"
          ]
        }
      ]
    },
    {
      "cell_type": "markdown",
      "source": [
        "Ejercicio 4- Fracciones"
      ],
      "metadata": {
        "id": "iO-TCpnaBRUr"
      }
    },
    {
      "cell_type": "code",
      "source": [
        "from fractions import Fraction\n",
        "print(Fraction(10, 6))\n",
        "\n",
        "print(Fraction(1, 3) + Fraction(2, 3)) # 1/3 + 2/3 == 3/3 == 1/1\n",
        "\n",
        "f = Fraction(10, 6)\n",
        "print(f.numerator)\n",
        "\n",
        "print(f.denominator)\n",
        "\n",
        "print(f.as_integer_ratio())\n"
      ],
      "metadata": {
        "colab": {
          "base_uri": "https://localhost:8080/"
        },
        "id": "BKn7IwuyBT48",
        "outputId": "97ab6e0f-e0bd-43c5-9ed4-853ad7451379"
      },
      "execution_count": 22,
      "outputs": [
        {
          "output_type": "stream",
          "name": "stdout",
          "text": [
            "5/3\n",
            "1\n",
            "5\n",
            "3\n",
            "(5, 3)\n"
          ]
        }
      ]
    },
    {
      "cell_type": "markdown",
      "source": [
        "\n",
        "Secuencias inmutables"
      ],
      "metadata": {
        "id": "g6O97g3zghhA"
      }
    },
    {
      "cell_type": "markdown",
      "source": [
        "Ejercicio 5- Strings and bytes"
      ],
      "metadata": {
        "id": "OfyFq4Algjkj"
      }
    },
    {
      "cell_type": "code",
      "source": [
        "\n",
        "str1 = 'This is a string. We built it with single quotes.'\n",
        "str2 = \"This is also a string, but built with double quotes.\"\n",
        "str3 = '''This is built using triple quotes,\n",
        "so it can span multiple lines.'''\n",
        "str4 = \"\"\"This too\n",
        "is a multiline one\n",
        "built with triple double-quotes.\"\"\"\n",
        "str4 #A\n",
        "'This too\\nis a multiline one\\nbuilt with triple double-quotes.'\n",
        "print(str4) #se imprime la variable"
      ],
      "metadata": {
        "colab": {
          "base_uri": "https://localhost:8080/"
        },
        "id": "4iVKH5nuxzrP",
        "outputId": "0237f387-cafc-475c-de73-4f942b648a5e"
      },
      "execution_count": 5,
      "outputs": [
        {
          "output_type": "stream",
          "name": "stdout",
          "text": [
            "This too\n",
            "is a multiline one\n",
            "built with triple double-quotes.\n"
          ]
        }
      ]
    },
    {
      "cell_type": "markdown",
      "source": [
        "Ejercicio 6"
      ],
      "metadata": {
        "id": "rxBCys09CySK"
      }
    },
    {
      "cell_type": "code",
      "source": [
        "# ternary.py\n",
        "order_total = int(input(\"Dime la cantidad: \"))# GBP\n",
        "\n",
        "if order_total > 100:\n",
        "   discount = 25 # GBP\n",
        "else:\n",
        "   discount = 0 # GBP\n",
        "print(order_total, discount)"
      ],
      "metadata": {
        "colab": {
          "base_uri": "https://localhost:8080/"
        },
        "id": "hOUSQyLiyqoS",
        "outputId": "0688f709-9a40-445a-a4e3-3066d62a05d2"
      },
      "execution_count": 25,
      "outputs": [
        {
          "output_type": "stream",
          "name": "stdout",
          "text": [
            "Dime la cantidad: 100\n",
            "100 0\n"
          ]
        }
      ]
    },
    {
      "cell_type": "markdown",
      "source": [
        "Ejercicio 7"
      ],
      "metadata": {
        "id": "Npx7aFjtIPyE"
      }
    },
    {
      "cell_type": "code",
      "source": [
        "# simple.for.4.py\n",
        "surnames = ['Rivest', 'Shamir', 'Adleman']\n",
        "for position, surname in enumerate(surnames):\n",
        "    print(position, surname)"
      ],
      "metadata": {
        "colab": {
          "base_uri": "https://localhost:8080/"
        },
        "id": "PodYWvwAH8M0",
        "outputId": "6f3d0dd2-acb0-4824-8b6a-e69b6fda49d6"
      },
      "execution_count": 28,
      "outputs": [
        {
          "output_type": "stream",
          "name": "stdout",
          "text": [
            "0 Rivest\n",
            "1 Shamir\n",
            "2 Adleman\n"
          ]
        }
      ]
    },
    {
      "cell_type": "markdown",
      "source": [
        "Ejercicio 8"
      ],
      "metadata": {
        "id": "TizHFeobIsKe"
      }
    },
    {
      "cell_type": "code",
      "source": [
        "# multiple.sequences.py\n",
        "people = ['Nick', 'Rick', 'Roger', 'Syd']\n",
        "ages = [23, 24, 23, 21]\n",
        "for position in range(len(people)):\n",
        "    person = people[position]\n",
        "    age = ages[position]\n",
        "    print(person, age)"
      ],
      "metadata": {
        "colab": {
          "base_uri": "https://localhost:8080/"
        },
        "id": "EPNZC5QyIvrx",
        "outputId": "cc47f897-dccf-46e7-ac83-6c523279a6c9"
      },
      "execution_count": 29,
      "outputs": [
        {
          "output_type": "stream",
          "name": "stdout",
          "text": [
            "Nick 23\n",
            "Rick 24\n",
            "Roger 23\n",
            "Syd 21\n"
          ]
        }
      ]
    },
    {
      "cell_type": "markdown",
      "source": [
        "Ejercicio 9"
      ],
      "metadata": {
        "id": "JSUyTUNcI8po"
      }
    },
    {
      "cell_type": "code",
      "source": [
        "# binary.py\n",
        "n = 39\n",
        "remainders = []\n",
        "while n > 0:\n",
        "    remainder = n % 2 # resto de la división por 2\n",
        "    remainders.append(remainder) # hacemos un seguimiento de los restos\n",
        "    n //= 2 # dividimos n por 2\n",
        "remainders.reverse()\n",
        "print(remainders)"
      ],
      "metadata": {
        "colab": {
          "base_uri": "https://localhost:8080/"
        },
        "id": "VG6DPWu7I-8j",
        "outputId": "b9f7e45c-f813-4999-f99b-076fa862aaf7"
      },
      "execution_count": 30,
      "outputs": [
        {
          "output_type": "stream",
          "name": "stdout",
          "text": [
            "[1, 0, 0, 1, 1, 1]\n"
          ]
        }
      ]
    },
    {
      "cell_type": "code",
      "source": [
        "# binary.2.py\n",
        "n = int(input(\"Numero a binario: \"))\n",
        "remainders = []\n",
        "while n > 0:\n",
        "    n, remainder = divmod(n, 2)\n",
        "    remainders.append(remainder)\n",
        "remainders.reverse()\n",
        "print(remainders)"
      ],
      "metadata": {
        "colab": {
          "base_uri": "https://localhost:8080/"
        },
        "id": "f82E_xLVJ2JB",
        "outputId": "812f75b8-0b94-4c78-d114-bc4e2da78aac"
      },
      "execution_count": 34,
      "outputs": [
        {
          "output_type": "stream",
          "name": "stdout",
          "text": [
            "Numero a binario: 39\n",
            "[1, 0, 0, 1, 1, 1]\n"
          ]
        }
      ]
    },
    {
      "cell_type": "markdown",
      "source": [
        "Ejercicio 10"
      ],
      "metadata": {
        "id": "XcnF4in5LF3q"
      }
    },
    {
      "cell_type": "code",
      "source": [
        "# multiple.sequences.while.py\n",
        "people = ['Nick', 'Rick', 'Roger', 'Syd']\n",
        "ages = [23, 24, 23, 21]\n",
        "position = 0\n",
        "while position < len(people):\n",
        "    person = people[position]\n",
        "    age = ages[position]\n",
        "    print(person, age)\n",
        "    position += 1"
      ],
      "metadata": {
        "colab": {
          "base_uri": "https://localhost:8080/"
        },
        "id": "5CpP7EBeLKIY",
        "outputId": "31c2f76c-5d74-4580-fe66-009fd07b8115"
      },
      "execution_count": 35,
      "outputs": [
        {
          "output_type": "stream",
          "name": "stdout",
          "text": [
            "Nick 23\n",
            "Rick 24\n",
            "Roger 23\n",
            "Syd 21\n"
          ]
        }
      ]
    },
    {
      "cell_type": "markdown",
      "source": [
        "Ejercicio 11"
      ],
      "metadata": {
        "id": "XrFr89KbLx42"
      }
    },
    {
      "cell_type": "code",
      "source": [
        "# discount.py\n",
        "from datetime import date, timedelta\n",
        "today = date.today()\n",
        "tomorrow = today + timedelta(days=1) # hoy + 1 dia es manana\n",
        "products = [\n",
        "{'sku': '1', 'expiration_date': today, 'price': 100.0},\n",
        "{'sku': '2', 'expiration_date': tomorrow, 'price': 50},\n",
        "{'sku': '3', 'expiration_date': today, 'price': 20},\n",
        "]\n",
        "for product in products:\n",
        "    if product['expiration_date'] != today:\n",
        "        continue\n",
        "    product['price'] *= 0.8 # equivalente para aplicar 20% de descuento\n",
        "    print(\n",
        "         'Price for sku', product['sku'],\n",
        "         'is now', product['price'])"
      ],
      "metadata": {
        "colab": {
          "base_uri": "https://localhost:8080/"
        },
        "id": "ppboRncZL0Aa",
        "outputId": "0a204704-7a57-47d6-ca8a-8bf70b19a236"
      },
      "execution_count": 36,
      "outputs": [
        {
          "output_type": "stream",
          "name": "stdout",
          "text": [
            "Price for sku 1 is now 80.0\n",
            "Price for sku 3 is now 16.0\n"
          ]
        }
      ]
    }
  ]
}