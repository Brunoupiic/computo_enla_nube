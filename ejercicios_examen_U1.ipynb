{
  "nbformat": 4,
  "nbformat_minor": 0,
  "metadata": {
    "colab": {
      "provenance": [],
      "authorship_tag": "ABX9TyOWZVMFTArEvLkilrTLY0wU",
      "include_colab_link": true
    },
    "kernelspec": {
      "name": "python3",
      "display_name": "Python 3"
    },
    "language_info": {
      "name": "python"
    }
  },
  "cells": [
    {
      "cell_type": "markdown",
      "metadata": {
        "id": "view-in-github",
        "colab_type": "text"
      },
      "source": [
        "<a href=\"https://colab.research.google.com/github/Brunoupiic/computo_enla_nube/blob/main/ejercicios_examen_U1.ipynb\" target=\"_parent\"><img src=\"https://colab.research.google.com/assets/colab-badge.svg\" alt=\"Open In Colab\"/></a>"
      ]
    },
    {
      "cell_type": "markdown",
      "source": [
        "Exercise 1: Is a Number Prime?\n",
        "A prime number is an integer greater than 1 that is only divisible by one and itself. Writeafunction that determines whether or not its parameter is prime, returning True if it is, and Falseotherwise. Write a main program that reads an integer from the user and displays a messageindicating whether or not it is prime. Ensure that the main program will not run if the filecontaining your solution is imported into another program."
      ],
      "metadata": {
        "id": "ZKHxYEiSqLRv"
      }
    },
    {
      "cell_type": "code",
      "execution_count": 30,
      "metadata": {
        "colab": {
          "base_uri": "https://localhost:8080/"
        },
        "id": "MoHrK9l0qDpT",
        "outputId": "bd651eee-ed9c-4164-801b-f8eef6d72682"
      },
      "outputs": [
        {
          "output_type": "stream",
          "name": "stdout",
          "text": [
            "Elige un numero: 2\n",
            "Es primo? R= True\n"
          ]
        }
      ],
      "source": [
        "n = int(input(\"Elige un numero: \"))\n",
        "def primo(n):\n",
        "    if n < 2:\n",
        "        return False\n",
        "    for i in range(2,int(n**0.5)+1):\n",
        "        if n % i == 0:\n",
        "            return False\n",
        "    return True\n",
        "print(\"Es primo? R=\",primo(n))"
      ]
    },
    {
      "cell_type": "markdown",
      "source": [
        "Exercise 2: Next Prime\n",
        "In this exercise you will create a function named nextPrime that finds and returns the first primenumber larger than some integer, n. The value of n will be passed to the function as its onlyparameter. Include a main program that reads an integer from the user and displays the first\n",
        "prime number larger than the entered value. Import and use your solution to Exercise 1 whilecompleting this exercise."
      ],
      "metadata": {
        "id": "T_ts-c8fqW9W"
      }
    },
    {
      "cell_type": "code",
      "source": [
        "from sympy import *\n",
        "a = int(input(\"Elige un numero para imprimir el numero primo siguiente: \"))\n",
        "nextprime(a)"
      ],
      "metadata": {
        "colab": {
          "base_uri": "https://localhost:8080/"
        },
        "id": "uhcLjPThqa6m",
        "outputId": "7eae5bc8-394e-4af7-baef-3d03b77b209e"
      },
      "execution_count": 6,
      "outputs": [
        {
          "name": "stdout",
          "output_type": "stream",
          "text": [
            "Elige un numero para imprimir el numero primo siguiente: 2\n"
          ]
        },
        {
          "output_type": "execute_result",
          "data": {
            "text/plain": [
              "3"
            ]
          },
          "metadata": {},
          "execution_count": 6
        }
      ]
    },
    {
      "cell_type": "markdown",
      "source": [
        "Exercise 3: Median of Three Values\n",
        "Write a function that takes three numbers as parameters, and returns the median value of thoseparameters as its result. Include a main program that reads three values fromthe user anddisplays their median.\n"
      ],
      "metadata": {
        "id": "qB6iHf5_rU7F"
      }
    },
    {
      "cell_type": "code",
      "source": [
        "def mediana(a,b,c):\n",
        "    return sorted([a,b,c])[1]\n",
        "a = float(input(\"ingresa el primer numero: \"))\n",
        "b = float(input(\"ingresa el segundo numero: \"))\n",
        "c = float(input(\"ingresa el tercer numero: \"))\n",
        "print(mediana(a,b,c))"
      ],
      "metadata": {
        "colab": {
          "base_uri": "https://localhost:8080/"
        },
        "id": "PR8RT4y8rZZA",
        "outputId": "e8911fbd-2605-4fdf-f189-27d7815e3063"
      },
      "execution_count": 31,
      "outputs": [
        {
          "output_type": "stream",
          "name": "stdout",
          "text": [
            "ingresa el primer numero: 2\n",
            "ingresa el segundo numero: 3\n",
            "ingresa el tercer numero: 4\n",
            "3.0\n"
          ]
        }
      ]
    },
    {
      "cell_type": "markdown",
      "source": [
        "Exercise 4: Random Password\n",
        "Write a function that generates a random password. The password should have a randomlengthof between 7 and 10 characters. Each character should be randomly selected frompositions 33to126 in the ASCII table. Your function will not take any parameters. It will return the randomlygenerated password as its only result. Display the randomly generated password in your file’s\n",
        "main program. Your main program should only run when your solution has not been importedinto another file.\n"
      ],
      "metadata": {
        "id": "zD46J1bIrtd0"
      }
    },
    {
      "cell_type": "code",
      "source": [
        "from random import randint\n",
        "def randomPassword():\n",
        "  randomLenght = randint(7, 10)\n",
        "  result = \"\"\n",
        "\n",
        "  for i in range(randomLenght):\n",
        "    randomChar = chr(randint(33, 126))\n",
        "    result = result + randomChar\n",
        "  return result\n",
        "\n",
        "def main():\n",
        "  print(\"Tu random password es: \", randomPassword())\n",
        "\n",
        "if __name__ == \"__main__\":\n",
        "  main()\n"
      ],
      "metadata": {
        "colab": {
          "base_uri": "https://localhost:8080/"
        },
        "id": "xTRIhZ2VrzTB",
        "outputId": "37ea5826-cbfe-4f94-913d-4b7cdc27531a"
      },
      "execution_count": 7,
      "outputs": [
        {
          "output_type": "stream",
          "name": "stdout",
          "text": [
            "Tu random password es:  i!0UZ)QP_\n"
          ]
        }
      ]
    },
    {
      "cell_type": "markdown",
      "source": [
        "Exercise 5: Compute the Hypotenuse\n",
        "Write a function that takes the lengths of the two shorter sides of a right triangle as its\n",
        "parameters. Return the hypotenuse of the triangle, computed using Pythagorean theorem, as thefunction’s result. Include a main program that reads the lengths of the shorter sides of a right\n",
        "triangle from the user, uses your function to compute the length of the hypotenuse, and displays\n",
        "the result."
      ],
      "metadata": {
        "id": "eHXFz8JAtKjE"
      }
    },
    {
      "cell_type": "code",
      "source": [
        "import math\n",
        "def hipotenuse(a,b):\n",
        "    return math.sqrt(a**2 + b**2)\n",
        "a = float(input(\"medida de lado a: \"))\n",
        "b = float(input(\"medida de lado b: \"))\n",
        "print(hipotenuse(a,b))"
      ],
      "metadata": {
        "colab": {
          "base_uri": "https://localhost:8080/"
        },
        "id": "A2qIXkjRtMFE",
        "outputId": "3acb6069-386c-4481-b18e-f5fd368debce"
      },
      "execution_count": 32,
      "outputs": [
        {
          "output_type": "stream",
          "name": "stdout",
          "text": [
            "medida de lado a: 3\n",
            "medida de lado b: 4\n",
            "5.0\n"
          ]
        }
      ]
    }
  ]
}